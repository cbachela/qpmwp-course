{
 "cells": [
  {
   "cell_type": "markdown",
   "metadata": {},
   "source": [
    "# Assignment 1\n",
    "\n",
    "Deadline: 19.03.2025, 12:00 CET\n",
    "\n",
    "<Add your name, student-id and emal address>\n",
    "\n",
    "Nicolas Schärer, 20-931-507, nicolasalexander.schaerer@uzh.ch"
   ]
  },
  {
   "cell_type": "code",
   "execution_count": null,
   "metadata": {},
   "outputs": [],
   "source": []
  },
  {
   "cell_type": "code",
   "execution_count": 82,
   "metadata": {},
   "outputs": [],
   "source": [
    "# Import standard libraries\n",
    "import os\n",
    "import sys\n",
    "import timeit # To compute runtimes\n",
    "from typing import Optional\n",
    "\n",
    "# Import third-party libraries\n",
    "import numpy as np\n",
    "import pandas as pd\n",
    "import matplotlib.pyplot as plt\n",
    "\n",
    "# Import local modules\n",
    "project_root = os.path.dirname(os.path.dirname(os.getcwd()))   # Change this path if needed\n",
    "src_path = os.path.join(project_root, 'qpmwp-course\\\\src')\n",
    "sys.path.append(project_root)\n",
    "sys.path.append(src_path)\n",
    "from estimation.covariance import Covariance\n",
    "from estimation.expected_return import ExpectedReturn\n",
    "from optimization.constraints import Constraints\n",
    "from optimization.optimization import Optimization, Objective\n",
    "from optimization.optimization_data import OptimizationData\n",
    "from optimization.optimization import MeanVariance\n",
    "from optimization.quadratic_program import QuadraticProgram, USABLE_SOLVERS"
   ]
  },
  {
   "cell_type": "markdown",
   "metadata": {},
   "source": [
    "## 1. Solver horse race\n",
    "\n",
    "### 1.a)\n",
    "(3 points)\n",
    "\n",
    "Generate a Multivariate-Normal random dataset of dimension TxN, T=1000, N=100, and compute a vector of expected returns, q, and a covariance matrix, P, using classes ExpectedReturn and Covariance respectively."
   ]
  },
  {
   "cell_type": "code",
   "execution_count": 80,
   "metadata": {},
   "outputs": [
    {
     "name": "stdout",
     "output_type": "stream",
     "text": [
      "Vector of expected returns (q):\n",
      "<estimation.expected_return.ExpectedReturn object at 0x7344cc96e6b0>\n",
      "\n",
      "Covariance matrix (P):\n",
      "<estimation.covariance.Covariance object at 0x7344cc96ead0>\n"
     ]
    }
   ],
   "source": [
    "\n",
    "# Set the dimensions\n",
    "T = 1000  # Number of time periods\n",
    "N = 100   # Number of assets\n",
    "\n",
    "# Generate a random mean vector and covariance matrix for the multivariate normal distribution\n",
    "\n",
    "# here we went with a normal distributed mean, loc = mean = 3%, scale = std. deviation = 0.05\n",
    "# could use .uniform instead low=0.01, high =0.1, size = N => here every value as likely as the other\n",
    "mean = np.random.normal(loc=0.05, scale=0.03, size=N)\n",
    "# cov = <your code here>\n",
    "# Generate random standard deviations (volatility between 5% and 30%)\n",
    "std_devs = np.random.uniform(0.05, 0.3, size=N)\n",
    "\n",
    "# Create a random matrix\n",
    "A = np.random.randn(N, N)\n",
    "\n",
    "# Generate a positive semi-definite covariance matrix -> eigenwert isnt negative\n",
    "cov = np.dot(A, A.T)\n",
    "\n",
    "# Normalize and scale using std deviations\n",
    "cov = (cov / np.max(np.abs(cov))) * np.outer(std_devs, std_devs)\n",
    "\n",
    "# Generate the Multivariate-Normal random dataset random.multivariate_normal(mean, cov, size=T, check_valid='warn', tol=1e-8)\n",
    "data = np.random.multivariate_normal(mean, cov, size=T, check_valid='warn', tol=1e-8)\n",
    "\n",
    "# Convert the dataset to a DataFrame for easier manipulation\n",
    "df = pd.DataFrame(data, columns=[f'Asset_{i+1}' for i in range(N)])\n",
    "\n",
    "# Compute the vector of expected returns (mean returns) from df\n",
    "q = ExpectedReturn(method='geometric', scalefactor=1)\n",
    "q.estimate(X=df, inplace=True)\n",
    "#q = df.mean()\n",
    "\n",
    "# Compute the covariance matrix from df\n",
    "P  = Covariance(method='pearson')\n",
    "P.estimate(X=df, inplace=True)\n",
    "#P = df.cov()\n",
    "\n",
    "# Display the results\n",
    "print(\"Vector of expected returns (q):\") #mean return of each asset over time\n",
    "print(q)\n",
    "\n",
    "print(\"\\nCovariance matrix (P):\") #covariance matrix (how assets move together) -> isnt exactly the same as created due to randomness\n",
    "print(P)"
   ]
  },
  {
   "cell_type": "markdown",
   "metadata": {},
   "source": [
    "### 1.b)\n",
    "(3 points)\n",
    "\n",
    "Instantiate a constraints object by injecting column names of the data created in 1.a) as ids and add:\n",
    "- a budget constaint (i.e., asset weights have to sum to one)\n",
    "- lower bounds of 0.0 for all assets\n",
    "- upper bounds of 0.2 for all assets\n",
    "- group contraints such that the sum of the weights of the first 30 assets is <= 0.3, the sum of assets 31 to 60 is <= 0.4 and the sum of assets 61 to 100 is <= 0.5"
   ]
  },
  {
   "cell_type": "markdown",
   "metadata": {},
   "source": []
  },
  {
   "cell_type": "code",
   "execution_count": 68,
   "metadata": {},
   "outputs": [
    {
     "data": {
      "text/plain": [
       "{'G':    Asset_1  Asset_2  Asset_3  Asset_4  Asset_5  Asset_6  Asset_7  Asset_8  \\\n",
       " 0      1.0      1.0      1.0      1.0      1.0      1.0      1.0      1.0   \n",
       " 1      0.0      0.0      0.0      0.0      0.0      0.0      0.0      0.0   \n",
       " 2      0.0      0.0      0.0      0.0      0.0      0.0      0.0      0.0   \n",
       " \n",
       "    Asset_9  Asset_10  ...  Asset_91  Asset_92  Asset_93  Asset_94  Asset_95  \\\n",
       " 0      1.0       1.0  ...       0.0       0.0       0.0       0.0       0.0   \n",
       " 1      0.0       0.0  ...       0.0       0.0       0.0       0.0       0.0   \n",
       " 2      0.0       0.0  ...       1.0       1.0       1.0       1.0       1.0   \n",
       " \n",
       "    Asset_96  Asset_97  Asset_98  Asset_99  Asset_100  \n",
       " 0       0.0       0.0       0.0       0.0        0.0  \n",
       " 1       0.0       0.0       0.0       0.0        0.0  \n",
       " 2       1.0       1.0       1.0       1.0        1.0  \n",
       " \n",
       " [3 rows x 100 columns],\n",
       " 'sense': 0    <=\n",
       " dtype: object,\n",
       " 'rhs': 0    0.3\n",
       " 1    0.4\n",
       " 2    0.5\n",
       " dtype: float64}"
      ]
     },
     "execution_count": 68,
     "metadata": {},
     "output_type": "execute_result"
    }
   ],
   "source": [
    "# Instantiate the Constraints class\n",
    "constraints = Constraints(ids = df.columns.tolist())\n",
    "\n",
    "# Add budget constraint\n",
    "constraints.add_budget(rhs=1, sense='=')\n",
    "\n",
    "# Add box constraints (i.e., lower and upper bounds)\n",
    "constraints.add_box(lower=0, upper=0.2)\n",
    "\n",
    "# Add group constraints\n",
    "G = pd.DataFrame(np.zeros((3, N)), columns=constraints.ids)\n",
    "G.iloc[0, 0:30] = 1\n",
    "G.iloc[1, 30:60] = 1\n",
    "G.iloc[2, 60:100] = 1\n",
    "h = pd.Series([0.3, 0.4, 0.5])\n",
    "constraints.add_linear(G=G, sense='<=', rhs=h)\n",
    "\n",
    "# Display the constraints\n",
    "constraints.budget\n",
    "constraints.box\n",
    "constraints.linear\n"
   ]
  },
  {
   "cell_type": "markdown",
   "metadata": {},
   "source": []
  },
  {
   "cell_type": "markdown",
   "metadata": {},
   "source": [
    "### 1.c) \n",
    "(4 points)\n",
    "\n",
    "Solve a Mean-Variance optimization problem (using coefficients P and q in the objective function) which satisfies the above defined constraints.\n",
    "Repeat the task for all open-source solvers in qpsolvers and compare the results in terms of:\n",
    "\n",
    "- runtime\n",
    "- accuracy: value of the primal problem.\n",
    "- reliability: are all constarints fulfilled? Extract primal resisduals, dual residuals and duality gap.\n",
    "\n",
    "Generate a DataFrame with the solvers as column names and the following row index: 'solution_found': bool, 'objective': float, 'primal_residual': float, 'dual_residual': float, 'duality_gap': float, 'runtime': float.\n",
    "\n",
    "Put NA's for solvers that failed for some reason (e.g., unable to install the package or solvers throws an error during execution). \n",
    "\n",
    "\n"
   ]
  },
  {
   "cell_type": "code",
   "execution_count": null,
   "metadata": {},
   "outputs": [
    {
     "ename": "AttributeError",
     "evalue": "'dict' object has no attribute 'to_GhAb'",
     "output_type": "error",
     "traceback": [
      "\u001b[0;31m---------------------------------------------------------------------------\u001b[0m",
      "\u001b[0;31mAttributeError\u001b[0m                            Traceback (most recent call last)",
      "Cell \u001b[0;32mIn[115], line 26\u001b[0m\n\u001b[1;32m     24\u001b[0m \u001b[38;5;66;03m# Solve the optimization problem\u001b[39;00m\n\u001b[1;32m     25\u001b[0m start_time \u001b[38;5;241m=\u001b[39m timeit\u001b[38;5;241m.\u001b[39mdefault_timer()\n\u001b[0;32m---> 26\u001b[0m \u001b[43mmv\u001b[49m\u001b[38;5;241;43m.\u001b[39;49m\u001b[43msolve\u001b[49m\u001b[43m(\u001b[49m\u001b[43m)\u001b[49m\n\u001b[1;32m     27\u001b[0m end_time \u001b[38;5;241m=\u001b[39m timeit\u001b[38;5;241m.\u001b[39mdefault_timer()\n\u001b[1;32m     29\u001b[0m \u001b[38;5;66;03m# Extract the optimal weights\u001b[39;00m\n",
      "File \u001b[0;32m~/Documents/UZH/QPM/qpmwp-course/src/optimization/optimization.py:250\u001b[0m, in \u001b[0;36mMeanVariance.solve\u001b[0;34m(self)\u001b[0m\n\u001b[1;32m    249\u001b[0m \u001b[38;5;28;01mdef\u001b[39;00m\u001b[38;5;250m \u001b[39m\u001b[38;5;21msolve\u001b[39m(\u001b[38;5;28mself\u001b[39m) \u001b[38;5;241m-\u001b[39m\u001b[38;5;241m>\u001b[39m \u001b[38;5;28;01mNone\u001b[39;00m:\n\u001b[0;32m--> 250\u001b[0m     \u001b[38;5;28;01mreturn\u001b[39;00m \u001b[38;5;28;43msuper\u001b[39;49m\u001b[43m(\u001b[49m\u001b[43m)\u001b[49m\u001b[38;5;241;43m.\u001b[39;49m\u001b[43msolve\u001b[49m\u001b[43m(\u001b[49m\u001b[43m)\u001b[49m\n",
      "File \u001b[0;32m~/Documents/UZH/QPM/qpmwp-course/src/optimization/optimization.py:134\u001b[0m, in \u001b[0;36mOptimization.solve\u001b[0;34m(self)\u001b[0m\n\u001b[1;32m    131\u001b[0m obj_coeff[\u001b[38;5;124m'\u001b[39m\u001b[38;5;124mP\u001b[39m\u001b[38;5;124m'\u001b[39m] \u001b[38;5;241m=\u001b[39m to_numpy(obj_coeff[\u001b[38;5;124m'\u001b[39m\u001b[38;5;124mP\u001b[39m\u001b[38;5;124m'\u001b[39m])\n\u001b[1;32m    132\u001b[0m obj_coeff[\u001b[38;5;124m'\u001b[39m\u001b[38;5;124mq\u001b[39m\u001b[38;5;124m'\u001b[39m] \u001b[38;5;241m=\u001b[39m to_numpy(obj_coeff[\u001b[38;5;124m'\u001b[39m\u001b[38;5;124mq\u001b[39m\u001b[38;5;124m'\u001b[39m])\n\u001b[0;32m--> 134\u001b[0m \u001b[38;5;28;43mself\u001b[39;49m\u001b[38;5;241;43m.\u001b[39;49m\u001b[43msolve_qpsolvers\u001b[49m\u001b[43m(\u001b[49m\u001b[43m)\u001b[49m\n\u001b[1;32m    135\u001b[0m \u001b[38;5;28;01mreturn\u001b[39;00m \u001b[38;5;28;01mNone\u001b[39;00m\n",
      "File \u001b[0;32m~/Documents/UZH/QPM/qpmwp-course/src/optimization/optimization.py:139\u001b[0m, in \u001b[0;36mOptimization.solve_qpsolvers\u001b[0;34m(self)\u001b[0m\n\u001b[1;32m    137\u001b[0m \u001b[38;5;28;01mdef\u001b[39;00m\u001b[38;5;250m \u001b[39m\u001b[38;5;21msolve_qpsolvers\u001b[39m(\u001b[38;5;28mself\u001b[39m) \u001b[38;5;241m-\u001b[39m\u001b[38;5;241m>\u001b[39m \u001b[38;5;28;01mNone\u001b[39;00m:\n\u001b[0;32m--> 139\u001b[0m     \u001b[38;5;28;43mself\u001b[39;49m\u001b[38;5;241;43m.\u001b[39;49m\u001b[43mmodel_qpsolvers\u001b[49m\u001b[43m(\u001b[49m\u001b[43m)\u001b[49m\n\u001b[1;32m    140\u001b[0m     \u001b[38;5;28mself\u001b[39m\u001b[38;5;241m.\u001b[39mmodel\u001b[38;5;241m.\u001b[39msolve()\n\u001b[1;32m    142\u001b[0m     solution \u001b[38;5;241m=\u001b[39m \u001b[38;5;28mself\u001b[39m\u001b[38;5;241m.\u001b[39mmodel\u001b[38;5;241m.\u001b[39mresults[\u001b[38;5;124m'\u001b[39m\u001b[38;5;124msolution\u001b[39m\u001b[38;5;124m'\u001b[39m]\n",
      "File \u001b[0;32m~/Documents/UZH/QPM/qpmwp-course/src/optimization/optimization.py:159\u001b[0m, in \u001b[0;36mOptimization.model_qpsolvers\u001b[0;34m(self)\u001b[0m\n\u001b[1;32m    155\u001b[0m \u001b[38;5;28;01mdef\u001b[39;00m\u001b[38;5;250m \u001b[39m\u001b[38;5;21mmodel_qpsolvers\u001b[39m(\u001b[38;5;28mself\u001b[39m) \u001b[38;5;241m-\u001b[39m\u001b[38;5;241m>\u001b[39m \u001b[38;5;28;01mNone\u001b[39;00m:\n\u001b[1;32m    156\u001b[0m \n\u001b[1;32m    157\u001b[0m     \u001b[38;5;66;03m# constraints\u001b[39;00m\n\u001b[1;32m    158\u001b[0m     constraints \u001b[38;5;241m=\u001b[39m \u001b[38;5;28mself\u001b[39m\u001b[38;5;241m.\u001b[39mconstraints\n\u001b[0;32m--> 159\u001b[0m     GhAb \u001b[38;5;241m=\u001b[39m \u001b[43mconstraints\u001b[49m\u001b[38;5;241;43m.\u001b[39;49m\u001b[43mto_GhAb\u001b[49m()\n\u001b[1;32m    160\u001b[0m     lb \u001b[38;5;241m=\u001b[39m constraints\u001b[38;5;241m.\u001b[39mbox[\u001b[38;5;124m'\u001b[39m\u001b[38;5;124mlower\u001b[39m\u001b[38;5;124m'\u001b[39m]\u001b[38;5;241m.\u001b[39mto_numpy() \u001b[38;5;28;01mif\u001b[39;00m constraints\u001b[38;5;241m.\u001b[39mbox[\u001b[38;5;124m'\u001b[39m\u001b[38;5;124mbox_type\u001b[39m\u001b[38;5;124m'\u001b[39m] \u001b[38;5;241m!=\u001b[39m \u001b[38;5;124m'\u001b[39m\u001b[38;5;124mNA\u001b[39m\u001b[38;5;124m'\u001b[39m \u001b[38;5;28;01melse\u001b[39;00m \u001b[38;5;28;01mNone\u001b[39;00m\n\u001b[1;32m    161\u001b[0m     ub \u001b[38;5;241m=\u001b[39m constraints\u001b[38;5;241m.\u001b[39mbox[\u001b[38;5;124m'\u001b[39m\u001b[38;5;124mupper\u001b[39m\u001b[38;5;124m'\u001b[39m]\u001b[38;5;241m.\u001b[39mto_numpy() \u001b[38;5;28;01mif\u001b[39;00m constraints\u001b[38;5;241m.\u001b[39mbox[\u001b[38;5;124m'\u001b[39m\u001b[38;5;124mbox_type\u001b[39m\u001b[38;5;124m'\u001b[39m] \u001b[38;5;241m!=\u001b[39m \u001b[38;5;124m'\u001b[39m\u001b[38;5;124mNA\u001b[39m\u001b[38;5;124m'\u001b[39m \u001b[38;5;28;01melse\u001b[39;00m \u001b[38;5;28;01mNone\u001b[39;00m\n",
      "\u001b[0;31mAttributeError\u001b[0m: 'dict' object has no attribute 'to_GhAb'"
     ]
    }
   ],
   "source": [
    "# Extract the constraints in the format required by the solver\n",
    "GhAb = constraints.to_GhAb()\n",
    "\n",
    "# Loop over solvers, instantiate the quadratic program, solve it and store the results\n",
    "# Initialize results DataFrame\n",
    "results = pd.DataFrame(index=['solution_found', 'objective', 'primal_residual', 'dual_residual', 'duality_gap', 'runtime'], columns=list(USABLE_SOLVERS))\n",
    "\n",
    "for solver in USABLE_SOLVERS:\n",
    "    # Instantiate the quadratic program\n",
    "    mv = MeanVariance(\n",
    "        covariance=P,\n",
    "        expected_return=q,\n",
    "        constraints=constraints,\n",
    "        risk_aversion=1,\n",
    "        solver_name=solver,\n",
    "    )\n",
    "    \n",
    "    # Create an OptimizationData object\n",
    "    optimization_data = OptimizationData(return_series=df)\n",
    "\n",
    "    # Set the objective function\n",
    "    mv.set_objective(optimization_data=optimization_data)\n",
    "\n",
    "    # Solve the optimization problem\n",
    "    start_time = timeit.default_timer()\n",
    "    mv.solve()\n",
    "    end_time = timeit.default_timer()\n",
    "\n",
    "    # Extract the optimal weights\n",
    "    weights_mv = pd.Series(mv.results['weights'], index=df.columns)\n",
    "    #print(solver)\n",
    "    #print(weights_mv)\n",
    "\n",
    "    # Calculate primal residual, dual residual, and duality gap\n",
    "    #primal_residual = \n",
    "    #dual_residual = \n",
    "    #duality_gap = \n",
    "\n",
    "    # Store the results in the results DataFrame\n",
    "    results.loc['solution_found', solver] = mv.results['status']\n",
    "    #results.loc['objective', solver] = \n",
    "    #results.loc['primal_residual', solver] = primal_residual\n",
    "    #results.loc['dual_residual', solver] = dual_residual\n",
    "    #results.loc['duality_gap', solver] = duality_gap\n",
    "    results.loc['runtime', solver] = end_time - start_time\n",
    "\n",
    "#results\n"
   ]
  },
  {
   "cell_type": "code",
   "execution_count": null,
   "metadata": {},
   "outputs": [],
   "source": []
  },
  {
   "cell_type": "markdown",
   "metadata": {},
   "source": [
    "Print and visualize the results"
   ]
  },
  {
   "cell_type": "code",
   "execution_count": null,
   "metadata": {},
   "outputs": [],
   "source": []
  },
  {
   "cell_type": "markdown",
   "metadata": {},
   "source": [
    "## 2. Analytical Solution to Minimum-Variance Problem\n",
    "\n",
    "(5 points)\n",
    "\n",
    "- Create a `MinVariance` class that follows the structure of the `MeanVariance` class.\n",
    "- Implement the `solve` method in `MinVariance` such that if `solver_name = 'analytical'`, the analytical solution is computed and stored within the object (if such a solution exists). If not, call the `solve` method from the parent class.\n",
    "- Create a `Constraints` object by injecting the same ids as in part 1.b) and add a budget constraint.\n",
    "- Instantiate a `MinVariance` object by setting `solver_name = 'analytical'` and passing instances of `Constraints` and `Covariance` as arguments.\n",
    "- Create an `OptimizationData` object that contains an element `return_series`, which consists of the synthetic data generated in part 1.a).\n",
    "- Solve the optimization problem using the created `MinVariance` object and compare the results to those obtained in part 1.c).\n"
   ]
  },
  {
   "cell_type": "code",
   "execution_count": null,
   "metadata": {},
   "outputs": [],
   "source": [
    "# Define class MinVariance\n",
    "class MinVariance(Optimization):\n",
    "\n",
    "    def __init__(self,\n",
    "                 constraints: Constraints,\n",
    "                 covariance: Optional[Covariance] = None,\n",
    "                 **kwargs):\n",
    "        super().__init__(\n",
    "            constraints=constraints,\n",
    "            **kwargs\n",
    "        )\n",
    "        self.covariance = Covariance() if covariance is None else covariance\n",
    "\n",
    "    def set_objective(self, optimization_data: OptimizationData) -> None:\n",
    "        #<your code here>\n",
    "\n",
    "    def solve(self) -> None:\n",
    "        if self.params.get('solver_name') == 'analytical':\n",
    "            #<your code here>\n",
    "            return None\n",
    "        else:\n",
    "            return super().solve()\n",
    "\n",
    "\n",
    "# Create a constraints object with just a budget constraint\n",
    "#<your code here>\n",
    "\n",
    "# Instantiate the MinVariance class\n",
    "#<your code here>\n",
    "\n",
    "# Prepare the optimization data and prepare the optimization problem\n",
    "#<your code here>\n",
    "\n",
    "# Solve the optimization problem and print the weights\n",
    "#<your code here>"
   ]
  }
 ],
 "metadata": {
  "kernelspec": {
   "display_name": "venv_310",
   "language": "python",
   "name": "python3"
  },
  "language_info": {
   "codemirror_mode": {
    "name": "ipython",
    "version": 3
   },
   "file_extension": ".py",
   "mimetype": "text/x-python",
   "name": "python",
   "nbconvert_exporter": "python",
   "pygments_lexer": "ipython3",
   "version": "3.10.11"
  }
 },
 "nbformat": 4,
 "nbformat_minor": 2
}
