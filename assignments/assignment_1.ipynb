{
 "cells": [
  {
   "cell_type": "markdown",
   "metadata": {},
   "source": [
    "# Assignment 1\n",
    "\n",
    "Deadline: 19.03.2025, 12:00 CET\n",
    "\n",
    "<Add your name, student-id and emal address>\n",
    "\n",
    "Nicolas Schärer, 20-931-507, nicolasalexander.schaerer@uzh.ch"
   ]
  },
  {
   "cell_type": "code",
   "execution_count": null,
   "metadata": {},
   "outputs": [],
   "source": []
  },
  {
   "cell_type": "code",
   "execution_count": 1,
   "metadata": {},
   "outputs": [],
   "source": [
    "# Import standard libraries\n",
    "import os\n",
    "import sys\n",
    "import timeit # To compute runtimes\n",
    "from typing import Optional\n",
    "\n",
    "# Import third-party libraries\n",
    "import numpy as np\n",
    "import pandas as pd\n",
    "import matplotlib.pyplot as plt\n",
    "\n",
    "# Import local modules\n",
    "project_root = os.path.dirname(os.path.dirname(os.getcwd()))   # Change this path if needed\n",
    "src_path = os.path.join(project_root, 'qpmwp-course\\\\src')\n",
    "sys.path.append(project_root)\n",
    "sys.path.append(src_path)\n",
    "from estimation.covariance import Covariance\n",
    "from estimation.expected_return import ExpectedReturn\n",
    "from optimization.constraints import Constraints\n",
    "from optimization.optimization import Optimization, Objective\n",
    "from optimization.optimization_data import OptimizationData\n",
    "from optimization.quadratic_program import QuadraticProgram, USABLE_SOLVERS"
   ]
  },
  {
   "cell_type": "markdown",
   "metadata": {},
   "source": [
    "## 1. Solver Horse Race\n",
    "\n",
    "### 1.a)\n",
    "(3 points)\n",
    "\n",
    "Generate a Multivariate-Normal random dataset of dimension TxN, T=1000, N=100, and compute a vector of expected returns, q, and a covariance matrix, P, using classes ExpectedReturn and Covariance respectively."
   ]
  },
  {
   "cell_type": "code",
   "execution_count": null,
   "metadata": {},
   "outputs": [
    {
     "name": "stdout",
     "output_type": "stream",
     "text": [
      "Vector of expected returns (q):\n",
      "Asset_1      0.045275\n",
      "Asset_2      0.022666\n",
      "Asset_3      0.092933\n",
      "Asset_4      0.060326\n",
      "Asset_5      0.040106\n",
      "               ...   \n",
      "Asset_96     0.077870\n",
      "Asset_97     0.021154\n",
      "Asset_98     0.083267\n",
      "Asset_99     0.005093\n",
      "Asset_100    0.046605\n",
      "Length: 100, dtype: float64\n",
      "\n",
      "Covariance matrix (P):\n",
      "            Asset_1   Asset_2   Asset_3   Asset_4   Asset_5   Asset_6  \\\n",
      "Asset_1    0.030165  0.001502 -0.001549  0.002379 -0.001032  0.002201   \n",
      "Asset_2    0.001502  0.030025 -0.004850  0.000874 -0.002001  0.000540   \n",
      "Asset_3   -0.001549 -0.004850  0.030054 -0.003353  0.000708 -0.000299   \n",
      "Asset_4    0.002379  0.000874 -0.003353  0.010459 -0.000427  0.000302   \n",
      "Asset_5   -0.001032 -0.002001  0.000708 -0.000427  0.006533 -0.000862   \n",
      "...             ...       ...       ...       ...       ...       ...   \n",
      "Asset_96  -0.000764  0.001089  0.002609 -0.001072  0.001444  0.000507   \n",
      "Asset_97  -0.003335 -0.001036 -0.001554  0.000684  0.000370  0.000224   \n",
      "Asset_98  -0.002784 -0.002975  0.002862  0.000678 -0.000276  0.001058   \n",
      "Asset_99   0.000923 -0.004444 -0.000545  0.001323  0.001351  0.000098   \n",
      "Asset_100 -0.004440 -0.003195 -0.003303 -0.001323  0.000228  0.000673   \n",
      "\n",
      "            Asset_7   Asset_8   Asset_9  Asset_10  ...  Asset_91  Asset_92  \\\n",
      "Asset_1   -0.000838  0.002210 -0.000488  0.000863  ...  0.003739 -0.001682   \n",
      "Asset_2   -0.000791  0.001191  0.000153  0.003697  ...  0.008484  0.001543   \n",
      "Asset_3    0.003990 -0.001795 -0.000596 -0.004897  ... -0.000185 -0.000148   \n",
      "Asset_4    0.000720  0.000341 -0.000439  0.001380  ... -0.002553 -0.000932   \n",
      "Asset_5   -0.001002  0.000096  0.000232  0.000116  ...  0.000768 -0.000137   \n",
      "...             ...       ...       ...       ...  ...       ...       ...   \n",
      "Asset_96   0.000871  0.000570 -0.000658 -0.000816  ...  0.001179  0.001022   \n",
      "Asset_97   0.000950 -0.000721 -0.001220 -0.000550  ... -0.002317 -0.002620   \n",
      "Asset_98  -0.000513 -0.000265 -0.000227  0.000113  ... -0.001148 -0.000213   \n",
      "Asset_99  -0.004441 -0.000182  0.000436 -0.000788  ...  0.002991 -0.001026   \n",
      "Asset_100 -0.005236 -0.000183  0.002277 -0.002653  ...  0.002600  0.002322   \n",
      "\n",
      "           Asset_93  Asset_94  Asset_95  Asset_96  Asset_97  Asset_98  \\\n",
      "Asset_1   -0.000977 -0.003437  0.001642 -0.000764 -0.003335 -0.002784   \n",
      "Asset_2    0.000560  0.000371 -0.000546  0.001089 -0.001036 -0.002975   \n",
      "Asset_3   -0.001476 -0.003831 -0.003447  0.002609 -0.001554  0.002862   \n",
      "Asset_4   -0.000081 -0.001051  0.000426 -0.001072  0.000684  0.000678   \n",
      "Asset_5   -0.000483  0.000375  0.000165  0.001444  0.000370 -0.000276   \n",
      "...             ...       ...       ...       ...       ...       ...   \n",
      "Asset_96   0.000372 -0.001492 -0.000146  0.008803  0.002650 -0.001925   \n",
      "Asset_97   0.000797  0.000122 -0.000711  0.002650  0.018286  0.000324   \n",
      "Asset_98  -0.000642  0.000986  0.004400 -0.001925  0.000324  0.019361   \n",
      "Asset_99   0.000036 -0.002385  0.002200 -0.001957 -0.000640  0.002802   \n",
      "Asset_100  0.001414  0.007603 -0.001903  0.001746  0.001930 -0.000424   \n",
      "\n",
      "           Asset_99  Asset_100  \n",
      "Asset_1    0.000923  -0.004440  \n",
      "Asset_2   -0.004444  -0.003195  \n",
      "Asset_3   -0.000545  -0.003303  \n",
      "Asset_4    0.001323  -0.001323  \n",
      "Asset_5    0.001351   0.000228  \n",
      "...             ...        ...  \n",
      "Asset_96  -0.001957   0.001746  \n",
      "Asset_97  -0.000640   0.001930  \n",
      "Asset_98   0.002802  -0.000424  \n",
      "Asset_99   0.021599   0.004700  \n",
      "Asset_100  0.004700   0.040391  \n",
      "\n",
      "[100 rows x 100 columns]\n"
     ]
    }
   ],
   "source": [
    "\n",
    "# Set the dimensions\n",
    "T = 1000  # Number of time periods\n",
    "N = 100   # Number of assets\n",
    "\n",
    "# Generate a random mean vector and covariance matrix for the multivariate normal distribution\n",
    "\n",
    "# here we went with a normal distributed mean, loc = mean = 3%, scale = std. deviation = 0.05\n",
    "# could use .uniform instead low=0.01, high =0.1, size = N => here every value as likely as the other\n",
    "mean = np.random.normal(loc=0.05, scale=0.03, size=N)\n",
    "# cov = <your code here>\n",
    "# Generate random standard deviations (volatility between 5% and 30%)\n",
    "std_devs = np.random.uniform(0.05, 0.3, size=N)\n",
    "\n",
    "# Create a random matrix\n",
    "A = np.random.randn(N, N)\n",
    "\n",
    "# Generate a positive semi-definite covariance matrix -> eigenwert isnt negative\n",
    "cov = np.dot(A, A.T)\n",
    "\n",
    "# Normalize and scale using std deviations\n",
    "cov = (cov / np.max(np.abs(cov))) * np.outer(std_devs, std_devs)\n",
    "\n",
    "# Generate the Multivariate-Normal random dataset random.multivariate_normal(mean, cov, size=T, check_valid='warn', tol=1e-8)\n",
    "data = np.random.multivariate_normal(mean, cov, size=T, check_valid='warn', tol=1e-8)\n",
    "\n",
    "# Convert the dataset to a DataFrame for easier manipulation\n",
    "df = pd.DataFrame(data, columns=[f'Asset_{i+1}' for i in range(N)])\n",
    "\n",
    "# Compute the vector of expected returns (mean returns) from df\n",
    "q = df.mean()\n",
    "\n",
    "# Compute the covariance matrix from df\n",
    "P = df.cov()\n",
    "\n",
    "# Display the results\n",
    "print(\"Vector of expected returns (q):\") #mean return of each asset over time\n",
    "print(q)\n",
    "\n",
    "print(\"\\nCovariance matrix (P):\") #covariance matrix (how assets move together) -> isnt exactly the same as created due to randomness\n",
    "print(P)"
   ]
  },
  {
   "cell_type": "markdown",
   "metadata": {},
   "source": [
    "### 1.b)\n",
    "(3 points)\n",
    "\n",
    "Instantiate a constraints object by injecting column names of the data created in 1.a) as ids and add:\n",
    "- a budget constaint (i.e., asset weights have to sum to one)\n",
    "- lower bounds of 0.0 for all assets\n",
    "- upper bounds of 0.2 for all assets\n",
    "- group contraints such that the sum of the weights of the first 30 assets is <= 0.3, the sum of assets 31 to 60 is <= 0.4 and the sum of assets 61 to 100 is <= 0.5"
   ]
  },
  {
   "cell_type": "markdown",
   "metadata": {},
   "source": []
  },
  {
   "cell_type": "code",
   "execution_count": null,
   "metadata": {},
   "outputs": [
    {
     "data": {
      "text/plain": [
       "<optimization.constraints.Constraints at 0x1663129c9d0>"
      ]
     },
     "execution_count": 3,
     "metadata": {},
     "output_type": "execute_result"
    }
   ],
   "source": [
    "# Instantiate the Constraints class\n",
    "constraints = Constraints(ids = df.columns.tolist())\n",
    "\n",
    "# Add budget constraint\n",
    "#<your code here>\n",
    "\n",
    "# Add box constraints (i.e., lower and upper bounds)\n",
    "#<your code here>\n",
    "\n",
    "# Add linear constraints\n",
    "#<your code here>"
   ]
  },
  {
   "cell_type": "markdown",
   "metadata": {},
   "source": [
    "### 1.c) \n",
    "(4 points)\n",
    "\n",
    "Solve a Mean-Variance optimization problem (using coefficients P and q in the objective function) which satisfies the above defined constraints.\n",
    "Repeat the task for all open-source solvers in qpsolvers and compare the results in terms of:\n",
    "\n",
    "- runtime\n",
    "- accuracy: value of the primal problem.\n",
    "- reliability: are all constarints fulfilled? Extract primal resisduals, dual residuals and duality gap.\n",
    "\n",
    "Generate a DataFrame with the solvers as column names and the following row index: 'solution_found': bool, 'objective': float, 'primal_residual': float, 'dual_residual': float, 'duality_gap': float, 'runtime': float.\n",
    "\n",
    "Put NA's for solvers that failed for some reason (e.g., unable to install the package or solvers throws an error during execution). \n",
    "\n",
    "\n"
   ]
  },
  {
   "cell_type": "code",
   "execution_count": null,
   "metadata": {},
   "outputs": [],
   "source": [
    "# Extract the constraints in the format required by the solver\n",
    "GhAb = constraints.to_GhAb()\n",
    "\n",
    "# Loop over solvers, instantiate the quadratic program, solve it and store the results\n",
    "#<your code here>"
   ]
  },
  {
   "cell_type": "markdown",
   "metadata": {},
   "source": [
    "Print and visualize the results"
   ]
  },
  {
   "cell_type": "code",
   "execution_count": 5,
   "metadata": {},
   "outputs": [],
   "source": [
    "#<your code here>"
   ]
  },
  {
   "cell_type": "markdown",
   "metadata": {},
   "source": [
    "## 2. Analytical Solution to Minimum-Variance Problem\n",
    "\n",
    "(5 points)\n",
    "\n",
    "- Create a `MinVariance` class that follows the structure of the `MeanVariance` class.\n",
    "- Implement the `solve` method in `MinVariance` such that if `solver_name = 'analytical'`, the analytical solution is computed and stored within the object (if such a solution exists). If not, call the `solve` method from the parent class.\n",
    "- Create a `Constraints` object by injecting the same ids as in part 1.b) and add a budget constraint.\n",
    "- Instantiate a `MinVariance` object by setting `solver_name = 'analytical'` and passing instances of `Constraints` and `Covariance` as arguments.\n",
    "- Create an `OptimizationData` object that contains an element `return_series`, which consists of the synthetic data generated in part 1.a).\n",
    "- Solve the optimization problem using the created `MinVariance` object and compare the results to those obtained in part 1.c).\n"
   ]
  },
  {
   "cell_type": "code",
   "execution_count": null,
   "metadata": {},
   "outputs": [],
   "source": [
    "# Define class MinVariance\n",
    "class MinVariance(Optimization):\n",
    "\n",
    "    def __init__(self,\n",
    "                 constraints: Constraints,\n",
    "                 covariance: Optional[Covariance] = None,\n",
    "                 **kwargs):\n",
    "        super().__init__(\n",
    "            constraints=constraints,\n",
    "            **kwargs\n",
    "        )\n",
    "        self.covariance = Covariance() if covariance is None else covariance\n",
    "\n",
    "    def set_objective(self, optimization_data: OptimizationData) -> None:\n",
    "        #<your code here>\n",
    "\n",
    "    def solve(self) -> None:\n",
    "        if self.params.get('solver_name') == 'analytical':\n",
    "            #<your code here>\n",
    "            return None\n",
    "        else:\n",
    "            return super().solve()\n",
    "\n",
    "\n",
    "# Create a constraints object with just a budget constraint\n",
    "#<your code here>\n",
    "\n",
    "# Instantiate the MinVariance class\n",
    "#<your code here>\n",
    "\n",
    "# Prepare the optimization data and prepare the optimization problem\n",
    "#<your code here>\n",
    "\n",
    "# Solve the optimization problem and print the weights\n",
    "#<your code here>"
   ]
  }
 ],
 "metadata": {
  "kernelspec": {
   "display_name": "venv_310",
   "language": "python",
   "name": "python3"
  },
  "language_info": {
   "codemirror_mode": {
    "name": "ipython",
    "version": 3
   },
   "file_extension": ".py",
   "mimetype": "text/x-python",
   "name": "python",
   "nbconvert_exporter": "python",
   "pygments_lexer": "ipython3",
   "version": "3.10.11"
  }
 },
 "nbformat": 4,
 "nbformat_minor": 2
}
