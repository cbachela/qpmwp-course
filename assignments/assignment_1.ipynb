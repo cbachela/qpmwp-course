{
 "cells": [
  {
   "cell_type": "markdown",
   "metadata": {},
   "source": [
    "# Assignment 1\n",
    "\n",
    "Deadline: 19.03.2025, 12:00 CET\n",
    "\n",
    "*Buchkov Viacheslav, ID = 24-742-488, viacheslav.buchkov@uzh.ch*"
   ]
  },
  {
   "cell_type": "code",
   "metadata": {
    "ExecuteTime": {
     "end_time": "2025-03-17T21:55:56.039917Z",
     "start_time": "2025-03-17T21:55:56.037845Z"
    }
   },
   "source": [
    "# Import standard libraries\n",
    "import os\n",
    "import sys\n",
    "import timeit # To compute runtimes\n",
    "from typing import Optional\n",
    "from dataclasses import dataclass\n",
    "\n",
    "# Import third-party libraries\n",
    "import numpy as np\n",
    "import pandas as pd\n",
    "import matplotlib.pyplot as plt\n",
    "\n",
    "# Import local modules\n",
    "project_root = os.path.dirname(os.path.dirname(os.getcwd()))   # Change this path if needed\n",
    "src_path = os.path.join(project_root, 'qpmwp-course\\\\src')\n",
    "sys.path.append(project_root)\n",
    "sys.path.append(src_path)\n",
    "from src.estimation.covariance import Covariance\n",
    "from src.estimation.expected_return import ExpectedReturn\n",
    "from src.optimization.constraints import Constraints\n",
    "from src.optimization.optimization import Optimization, Objective\n",
    "from src.optimization.optimization_data import OptimizationData\n",
    "from src.optimization.quadratic_program import QuadraticProgram, USABLE_SOLVERS"
   ],
   "outputs": [],
   "execution_count": 437
  },
  {
   "metadata": {
    "ExecuteTime": {
     "end_time": "2025-03-17T21:55:56.059894Z",
     "start_time": "2025-03-17T21:55:56.057390Z"
    }
   },
   "cell_type": "code",
   "source": [
    "@dataclass\n",
    "class GroupConstraint:\n",
    "    indicies: np.array\n",
    "    max_weight: float\n",
    "\n",
    "@dataclass\n",
    "class TaskConfig:\n",
    "    RANDOM_SEED: int = 121\n",
    "\n",
    "    TOTAL_EXPOSURE: float = 1.0\n",
    "\n",
    "    MIN_WEIGHT: float = 0.0\n",
    "    MAX_WEIGHT: float = 0.2\n",
    "\n",
    "    GROUP_CONSTRAINTS: tuple[GroupConstraint] = (\n",
    "        GroupConstraint(indicies=np.arange(0, 30), max_weight=0.3),\n",
    "        GroupConstraint(indicies=np.arange(30, 60), max_weight=0.4),\n",
    "        GroupConstraint(indicies=np.arange(60, 100), max_weight=0.5)\n",
    "    )\n",
    "\n",
    "task_config = TaskConfig()"
   ],
   "outputs": [],
   "execution_count": 438
  },
  {
   "cell_type": "markdown",
   "metadata": {},
   "source": [
    "## 1. Solver Horse Race\n",
    "\n",
    "### 1.a)\n",
    "(3 points)\n",
    "\n",
    "Generate a Multivariate-Normal random dataset of dimension TxN, T=1000, N=100, and compute a vector of expected returns, q, and a covariance matrix, P, using classes ExpectedReturn and Covariance respectively."
   ]
  },
  {
   "metadata": {
    "ExecuteTime": {
     "end_time": "2025-03-17T21:55:56.063430Z",
     "start_time": "2025-03-17T21:55:56.061600Z"
    }
   },
   "cell_type": "code",
   "source": [
    "LOW_RETURN = -0.03 / 252\n",
    "HIGH_RETURN = 0.15 / 252\n",
    "\n",
    "LOW_VOL = 0.03 / np.sqrt(252)\n",
    "HIGH_VOL = 0.25 / np.sqrt(252)\n",
    "\n",
    "# Set the dimensions\n",
    "T = 1_000  # Number of time periods\n",
    "N = 100   # Number of assets\n",
    "\n",
    "np.random.seed(task_config.RANDOM_SEED)\n",
    "\n",
    "# Generate a random mean vector and covariance matrix for the multivariate normal distribution\n",
    "mean = np.random.uniform(low=LOW_RETURN, high=HIGH_RETURN, size=N)\n",
    "vols = np.random.uniform(low=LOW_VOL, high=HIGH_VOL, size=N)\n",
    "correlations = np.random.uniform(low=-1, high=1, size=N * (N - 1) // 2)"
   ],
   "outputs": [],
   "execution_count": 439
  },
  {
   "metadata": {
    "ExecuteTime": {
     "end_time": "2025-03-17T21:55:56.077878Z",
     "start_time": "2025-03-17T21:55:56.076178Z"
    }
   },
   "cell_type": "code",
   "source": [
    "corr_matrix = np.eye(N)\n",
    "upper_indices = np.triu_indices(N, k=1)\n",
    "corr_matrix[upper_indices] = correlations\n",
    "corr_matrix = corr_matrix + corr_matrix.T - np.eye(N)"
   ],
   "outputs": [],
   "execution_count": 440
  },
  {
   "metadata": {
    "ExecuteTime": {
     "end_time": "2025-03-17T21:55:56.092755Z",
     "start_time": "2025-03-17T21:55:56.090502Z"
    }
   },
   "cell_type": "code",
   "source": [
    "def nearest_positive_semidefinite(matrix: np.array) -> np.array:\n",
    "    matrix = (matrix + matrix.T) / 2\n",
    "    eigvals, eigvecs = np.linalg.eigh(matrix)\n",
    "    eigvals[eigvals < 0] = 0\n",
    "    psd_matrix = eigvecs @ np.diag(eigvals) @ eigvecs.T\n",
    "    return psd_matrix\n",
    "\n",
    "corr_matrix = nearest_positive_semidefinite(corr_matrix)"
   ],
   "outputs": [],
   "execution_count": 441
  },
  {
   "metadata": {
    "ExecuteTime": {
     "end_time": "2025-03-17T21:55:56.106905Z",
     "start_time": "2025-03-17T21:55:56.105582Z"
    }
   },
   "cell_type": "code",
   "source": [
    "def var_covar_from_corr_array(corr_array: np.array, volatilities: np.array) -> np.array:\n",
    "    return volatilities @ corr_array @ volatilities"
   ],
   "outputs": [],
   "execution_count": 442
  },
  {
   "metadata": {
    "ExecuteTime": {
     "end_time": "2025-03-17T21:55:56.121896Z",
     "start_time": "2025-03-17T21:55:56.120033Z"
    }
   },
   "cell_type": "code",
   "source": [
    "cov = var_covar_from_corr_array(corr_matrix, np.diag(np.sqrt(vols)))\n",
    "cov.shape"
   ],
   "outputs": [
    {
     "data": {
      "text/plain": [
       "(100, 100)"
      ]
     },
     "execution_count": 443,
     "metadata": {},
     "output_type": "execute_result"
    }
   ],
   "execution_count": 443
  },
  {
   "cell_type": "code",
   "metadata": {
    "ExecuteTime": {
     "end_time": "2025-03-17T21:55:56.141225Z",
     "start_time": "2025-03-17T21:55:56.135157Z"
    }
   },
   "source": [
    "# Generate the Multivariate-Normal random dataset\n",
    "data = np.random.multivariate_normal(mean, cov, size=T)\n",
    "\n",
    "# Convert the dataset to a DataFrame for easier manipulation\n",
    "df = pd.DataFrame(data, columns=[f'Asset_{i+1}' for i in range(N)])\n",
    "\n",
    "# Compute the vector of expected returns (mean returns) from df\n",
    "# As we sample normal => returns are arithmetic (not compounded)\n",
    "expected_return = ExpectedReturn(method=\"arithmetic\")\n",
    "q = expected_return.estimate(X=df, inplace=False)\n",
    "\n",
    "# Compute the covariance matrix from df\n",
    "covariance = Covariance()\n",
    "P = covariance.estimate(X=df, inplace=False)\n",
    "\n",
    "# Display the results\n",
    "print(\"Vector of expected returns (q):\")\n",
    "print(q)\n",
    "\n",
    "print(\"\\nCovariance matrix (P):\")\n",
    "print(P)"
   ],
   "outputs": [
    {
     "name": "stdout",
     "output_type": "stream",
     "text": [
      "Vector of expected returns (q):\n",
      "Asset_1      0.000311\n",
      "Asset_2      0.002907\n",
      "Asset_3     -0.001299\n",
      "Asset_4     -0.009561\n",
      "Asset_5     -0.005422\n",
      "               ...   \n",
      "Asset_96     0.011851\n",
      "Asset_97    -0.001216\n",
      "Asset_98    -0.001203\n",
      "Asset_99    -0.005681\n",
      "Asset_100   -0.007430\n",
      "Length: 100, dtype: float64\n",
      "\n",
      "Covariance matrix (P):\n",
      "            Asset_1   Asset_2   Asset_3   Asset_4   Asset_5   Asset_6  \\\n",
      "Asset_1    0.044199 -0.006243 -0.003509 -0.007416 -0.003027 -0.003019   \n",
      "Asset_2   -0.006243  0.021743 -0.003579  0.000837  0.000653  0.001091   \n",
      "Asset_3   -0.003509 -0.003579  0.022771  0.005781  0.002170 -0.006947   \n",
      "Asset_4   -0.007416  0.000837  0.005781  0.024616  0.002044 -0.002882   \n",
      "Asset_5   -0.003027  0.000653  0.002170  0.002044  0.006222  0.001149   \n",
      "...             ...       ...       ...       ...       ...       ...   \n",
      "Asset_96   0.001016 -0.002976  0.005875 -0.002851 -0.000637  0.004390   \n",
      "Asset_97  -0.001247  0.001770  0.000078  0.001112  0.000241 -0.000111   \n",
      "Asset_98  -0.002671  0.000984  0.002567 -0.000173  0.001127 -0.000866   \n",
      "Asset_99   0.004772  0.005342 -0.007100 -0.000983  0.000847  0.004228   \n",
      "Asset_100 -0.000252  0.000949 -0.008059 -0.000052 -0.003690  0.001789   \n",
      "\n",
      "            Asset_7   Asset_8   Asset_9  Asset_10  ...  Asset_91  Asset_92  \\\n",
      "Asset_1   -0.003871 -0.006553  0.002685  0.006251  ... -0.008181  0.008430   \n",
      "Asset_2   -0.003127  0.000421 -0.004311 -0.000402  ... -0.000696  0.003516   \n",
      "Asset_3    0.004371 -0.005550  0.005876  0.005807  ... -0.002587 -0.000635   \n",
      "Asset_4    0.004244 -0.002738 -0.001060 -0.007293  ...  0.000972 -0.004602   \n",
      "Asset_5   -0.001585 -0.001409 -0.002110  0.000100  ...  0.002546 -0.000834   \n",
      "...             ...       ...       ...       ...  ...       ...       ...   \n",
      "Asset_96   0.001641 -0.000382 -0.000826  0.003026  ...  0.002353  0.000782   \n",
      "Asset_97   0.000282  0.001780 -0.001128 -0.001764  ...  0.001928 -0.003029   \n",
      "Asset_98  -0.001143 -0.003755 -0.001922 -0.002656  ... -0.002657  0.002173   \n",
      "Asset_99  -0.000972  0.003695  0.001082 -0.001251  ... -0.003866  0.002417   \n",
      "Asset_100  0.000381  0.002694 -0.005791 -0.007491  ...  0.005041  0.002844   \n",
      "\n",
      "           Asset_93  Asset_94  Asset_95  Asset_96  Asset_97  Asset_98  \\\n",
      "Asset_1   -0.000119  0.003942 -0.003478  0.001016 -0.001247 -0.002671   \n",
      "Asset_2    0.004005  0.001540  0.003056 -0.002976  0.001770  0.000984   \n",
      "Asset_3   -0.005349 -0.004515  0.004570  0.005875  0.000078  0.002567   \n",
      "Asset_4    0.002364  0.004165  0.006421 -0.002851  0.001112 -0.000173   \n",
      "Asset_5   -0.002338  0.001712  0.001825 -0.000637  0.000241  0.001127   \n",
      "...             ...       ...       ...       ...       ...       ...   \n",
      "Asset_96  -0.001693 -0.001747 -0.004761  0.025298  0.001530 -0.003720   \n",
      "Asset_97   0.000982  0.000930  0.003481  0.001530  0.006482 -0.000450   \n",
      "Asset_98  -0.002643  0.005835  0.002748 -0.003720 -0.000450  0.014866   \n",
      "Asset_99  -0.002619  0.011741  0.002314 -0.005671 -0.001222 -0.002466   \n",
      "Asset_100  0.006680  0.008650  0.001283 -0.002366  0.000948  0.002207   \n",
      "\n",
      "           Asset_99  Asset_100  \n",
      "Asset_1    0.004772  -0.000252  \n",
      "Asset_2    0.005342   0.000949  \n",
      "Asset_3   -0.007100  -0.008059  \n",
      "Asset_4   -0.000983  -0.000052  \n",
      "Asset_5    0.000847  -0.003690  \n",
      "...             ...        ...  \n",
      "Asset_96  -0.005671  -0.002366  \n",
      "Asset_97  -0.001222   0.000948  \n",
      "Asset_98  -0.002466   0.002207  \n",
      "Asset_99   0.043557  -0.005508  \n",
      "Asset_100 -0.005508   0.029403  \n",
      "\n",
      "[100 rows x 100 columns]\n"
     ]
    }
   ],
   "execution_count": 444
  },
  {
   "metadata": {
    "ExecuteTime": {
     "end_time": "2025-03-17T21:55:56.157542Z",
     "start_time": "2025-03-17T21:55:56.154915Z"
    }
   },
   "cell_type": "code",
   "source": "df.min().min(), df.max().max()",
   "outputs": [
    {
     "data": {
      "text/plain": [
       "(np.float64(-0.9713765347350374), np.float64(0.863534808275182))"
      ]
     },
     "execution_count": 445,
     "metadata": {},
     "output_type": "execute_result"
    }
   ],
   "execution_count": 445
  },
  {
   "cell_type": "markdown",
   "metadata": {},
   "source": [
    "### 1.b)\n",
    "(3 points)\n",
    "\n",
    "Instantiate a constraints object by injecting column names of the data created in 1.a) as ids and add:\n",
    "- a budget constaint (i.e., asset weights have to sum to one)\n",
    "- lower bounds of 0.0 for all assets\n",
    "- upper bounds of 0.2 for all assets\n",
    "- group contraints such that the sum of the weights of the first 30 assets is <= 0.3, the sum of assets 31 to 60 is <= 0.4 and the sum of assets 61 to 100 is <= 0.5"
   ]
  },
  {
   "cell_type": "code",
   "metadata": {
    "ExecuteTime": {
     "end_time": "2025-03-17T21:55:56.173207Z",
     "start_time": "2025-03-17T21:55:56.170723Z"
    }
   },
   "source": [
    "# Instantiate the Constraints class\n",
    "constraints = Constraints(ids=df.columns.tolist())\n",
    "\n",
    "# Add budget constraint\n",
    "constraints.add_budget(rhs=task_config.TOTAL_EXPOSURE, sense='=')\n",
    "\n",
    "# Add box constraints (i.e., lower and upper bounds)\n",
    "constraints.add_box(lower=task_config.MIN_WEIGHT, upper=task_config.MAX_WEIGHT)\n",
    "\n",
    "# Add linear constraints\n",
    "groups_mask = pd.DataFrame(np.zeros((len(task_config.GROUP_CONSTRAINTS), N)), columns=constraints.ids)\n",
    "\n",
    "maximum_weights = []\n",
    "for i, group_constraint in enumerate(task_config.GROUP_CONSTRAINTS):\n",
    "    groups_mask.iloc[i, group_constraint.indicies] = 1\n",
    "    maximum_weights.append(group_constraint.max_weight)\n",
    "\n",
    "maximum_weights = pd.Series(maximum_weights)\n",
    "constraints.add_linear(G=groups_mask, sense='<=', rhs=maximum_weights)"
   ],
   "outputs": [],
   "execution_count": 446
  },
  {
   "cell_type": "markdown",
   "metadata": {},
   "source": [
    "### 1.c) \n",
    "(4 points)\n",
    "\n",
    "Solve a Mean-Variance optimization problem (using coefficients P and q in the objective function) which satisfies the above defined constraints.\n",
    "Repeat the task for all open-source solvers in qpsolvers and compare the results in terms of:\n",
    "\n",
    "- runtime\n",
    "- accuracy: value of the primal problem.\n",
    "- reliability: are all constarints fulfilled? Extract primal resisduals, dual residuals and duality gap.\n",
    "\n",
    "Generate a DataFrame with the solvers as column names and the following row index: 'solution_found': bool, 'objective': float, 'primal_residual': float, 'dual_residual': float, 'duality_gap': float, 'runtime': float.\n",
    "\n",
    "Put NA's for solvers that failed for some reason (e.g., unable to install the package or solvers throws an error during execution). \n",
    "\n",
    "\n"
   ]
  },
  {
   "cell_type": "code",
   "metadata": {
    "ExecuteTime": {
     "end_time": "2025-03-17T21:55:56.295857Z",
     "start_time": "2025-03-17T21:55:56.186079Z"
    }
   },
   "source": [
    "# Extract the constraints in the format required by the solver\n",
    "GhAb = constraints.to_GhAb()\n",
    "\n",
    "# Loop over solvers, instantiate the quadratic program, solve it and store the results\n",
    "results = pd.DataFrame(columns=['solution_found', 'objective', 'primal_residual', 'dual_residual', 'duality_gap', 'runtime'], index=list(USABLE_SOLVERS))\n",
    "for solver_name in USABLE_SOLVERS:\n",
    "    solver_settings = {'solver_name': solver_name}\n",
    "    model = QuadraticProgram(\n",
    "        P=P.to_numpy(),\n",
    "        q=q.to_numpy() * -1,\n",
    "        G=GhAb['G'],\n",
    "        h=GhAb['h'],\n",
    "        A=GhAb['A'],\n",
    "        b=GhAb['b'],\n",
    "        lb = constraints.box['lower'].to_numpy(),\n",
    "        ub = constraints.box['upper'].to_numpy(),\n",
    "        solver_settings=solver_settings,\n",
    "    )\n",
    "    start_time = timeit.default_timer()\n",
    "    model.solve()\n",
    "    runtime = timeit.default_timer() - start_time\n",
    "\n",
    "    results.loc[solver_name, 'solution_found'] = model.results['solution'].found\n",
    "    results.loc[solver_name, 'objective'] = model.results['solution'].obj\n",
    "    results.loc[solver_name, 'primal_residual'] = model.results['solution'].primal_residual() if model.results['solution'].found else ['NA']\n",
    "    results.loc[solver_name, 'dual_residual'] = model.results['solution'].dual_residual() if model.results['solution'].found else ['NA']\n",
    "    results.loc[solver_name, 'duality_gap'] = model.results['solution'].duality_gap() if model.results['solution'].found else ['NA']\n",
    "    results.loc[solver_name, 'runtime'] = runtime\n",
    "\n",
    "\n",
    "# Extract runtime, accuracy, reliability"
   ],
   "outputs": [],
   "execution_count": 447
  },
  {
   "metadata": {
    "ExecuteTime": {
     "end_time": "2025-03-17T21:55:56.312933Z",
     "start_time": "2025-03-17T21:55:56.309945Z"
    }
   },
   "cell_type": "code",
   "source": "results",
   "outputs": [
    {
     "data": {
      "text/plain": [
       "         solution_found objective primal_residual dual_residual  \\\n",
       "qpalm              True -0.008261             0.0           0.0   \n",
       "quadprog           True -0.008261             0.0           0.0   \n",
       "highs              True -0.008261             0.0           0.0   \n",
       "daqp               True -0.008261             0.0           0.0   \n",
       "osqp               True -0.008261             0.0           0.0   \n",
       "cvxopt             True -0.008261             0.0           0.0   \n",
       "\n",
       "                    duality_gap   runtime  \n",
       "qpalm     6.500447433658478e-08  0.014636  \n",
       "quadprog  6.500447433658478e-08  0.018427  \n",
       "highs     6.500447433658478e-08  0.019049  \n",
       "daqp      6.500447433658478e-08  0.017999  \n",
       "osqp      6.500447433658478e-08   0.01803  \n",
       "cvxopt    6.500447433658478e-08  0.017941  "
      ],
      "text/html": [
       "<div>\n",
       "<style scoped>\n",
       "    .dataframe tbody tr th:only-of-type {\n",
       "        vertical-align: middle;\n",
       "    }\n",
       "\n",
       "    .dataframe tbody tr th {\n",
       "        vertical-align: top;\n",
       "    }\n",
       "\n",
       "    .dataframe thead th {\n",
       "        text-align: right;\n",
       "    }\n",
       "</style>\n",
       "<table border=\"1\" class=\"dataframe\">\n",
       "  <thead>\n",
       "    <tr style=\"text-align: right;\">\n",
       "      <th></th>\n",
       "      <th>solution_found</th>\n",
       "      <th>objective</th>\n",
       "      <th>primal_residual</th>\n",
       "      <th>dual_residual</th>\n",
       "      <th>duality_gap</th>\n",
       "      <th>runtime</th>\n",
       "    </tr>\n",
       "  </thead>\n",
       "  <tbody>\n",
       "    <tr>\n",
       "      <th>qpalm</th>\n",
       "      <td>True</td>\n",
       "      <td>-0.008261</td>\n",
       "      <td>0.0</td>\n",
       "      <td>0.0</td>\n",
       "      <td>6.500447433658478e-08</td>\n",
       "      <td>0.014636</td>\n",
       "    </tr>\n",
       "    <tr>\n",
       "      <th>quadprog</th>\n",
       "      <td>True</td>\n",
       "      <td>-0.008261</td>\n",
       "      <td>0.0</td>\n",
       "      <td>0.0</td>\n",
       "      <td>6.500447433658478e-08</td>\n",
       "      <td>0.018427</td>\n",
       "    </tr>\n",
       "    <tr>\n",
       "      <th>highs</th>\n",
       "      <td>True</td>\n",
       "      <td>-0.008261</td>\n",
       "      <td>0.0</td>\n",
       "      <td>0.0</td>\n",
       "      <td>6.500447433658478e-08</td>\n",
       "      <td>0.019049</td>\n",
       "    </tr>\n",
       "    <tr>\n",
       "      <th>daqp</th>\n",
       "      <td>True</td>\n",
       "      <td>-0.008261</td>\n",
       "      <td>0.0</td>\n",
       "      <td>0.0</td>\n",
       "      <td>6.500447433658478e-08</td>\n",
       "      <td>0.017999</td>\n",
       "    </tr>\n",
       "    <tr>\n",
       "      <th>osqp</th>\n",
       "      <td>True</td>\n",
       "      <td>-0.008261</td>\n",
       "      <td>0.0</td>\n",
       "      <td>0.0</td>\n",
       "      <td>6.500447433658478e-08</td>\n",
       "      <td>0.01803</td>\n",
       "    </tr>\n",
       "    <tr>\n",
       "      <th>cvxopt</th>\n",
       "      <td>True</td>\n",
       "      <td>-0.008261</td>\n",
       "      <td>0.0</td>\n",
       "      <td>0.0</td>\n",
       "      <td>6.500447433658478e-08</td>\n",
       "      <td>0.017941</td>\n",
       "    </tr>\n",
       "  </tbody>\n",
       "</table>\n",
       "</div>"
      ]
     },
     "execution_count": 448,
     "metadata": {},
     "output_type": "execute_result"
    }
   ],
   "execution_count": 448
  },
  {
   "cell_type": "markdown",
   "metadata": {},
   "source": [
    "Print and visualize the results"
   ]
  },
  {
   "metadata": {
    "ExecuteTime": {
     "end_time": "2025-03-17T21:55:56.339077Z",
     "start_time": "2025-03-17T21:55:56.337697Z"
    }
   },
   "cell_type": "code",
   "source": "assert results[\"solution_found\"].all(), \"Not all solutions found!\"",
   "outputs": [],
   "execution_count": 449
  },
  {
   "cell_type": "code",
   "metadata": {
    "ExecuteTime": {
     "end_time": "2025-03-17T21:55:56.405094Z",
     "start_time": "2025-03-17T21:55:56.355542Z"
    }
   },
   "source": [
    "sort_order = results[\"runtime\"].sort_values(ascending=True).index\n",
    "\n",
    "results.loc[sort_order, \"objective\"].plot(kind='bar', title='Objective function');"
   ],
   "outputs": [
    {
     "data": {
      "text/plain": [
       "<Figure size 640x480 with 1 Axes>"
      ],
      "image/png": "[encoded data removed]"
     },
     "metadata": {},
     "output_type": "display_data"
    }
   ],
   "execution_count": 450
  },
  {
   "metadata": {
    "ExecuteTime": {
     "end_time": "2025-03-17T21:55:56.454403Z",
     "start_time": "2025-03-17T21:55:56.407615Z"
    }
   },
   "cell_type": "code",
   "source": "(results.loc[sort_order, \"primal_residual\"] - results.loc[sort_order, \"dual_residual\"]).plot(kind='bar', title='Residuals Diff');",
   "outputs": [
    {
     "data": {
      "text/plain": [
       "<Figure size 640x480 with 1 Axes>"
      ],
      "image/png": "[encoded data removed]"
     },
     "metadata": {},
     "output_type": "display_data"
    }
   ],
   "execution_count": 451
  },
  {
   "metadata": {
    "ExecuteTime": {
     "end_time": "2025-03-17T21:55:56.514847Z",
     "start_time": "2025-03-17T21:55:56.468249Z"
    }
   },
   "cell_type": "code",
   "source": "results.loc[sort_order, \"runtime\"].plot(kind='bar', title='Residuals Diff');",
   "outputs": [
    {
     "data": {
      "text/plain": [
       "<Figure size 640x480 with 1 Axes>"
      ],
      "image/png": "[encoded data removed]"
     },
     "metadata": {},
     "output_type": "display_data"
    }
   ],
   "execution_count": 452
  },
  {
   "cell_type": "markdown",
   "metadata": {},
   "source": [
    "## 2. Analytical Solution to Minimum-Variance Problem\n",
    "\n",
    "(5 points)\n",
    "\n",
    "- Create a `MinVariance` class that follows the structure of the `MeanVariance` class.\n",
    "- Implement the `solve` method in `MinVariance` such that if `solver_name = 'analytical'`, the analytical solution is computed and stored within the object (if such a solution exists). If not, call the `solve` method from the parent class.\n",
    "- Create a `Constraints` object by injecting the same ids as in part 1.b) and add a budget constraint.\n",
    "- Instantiate a `MinVariance` object by setting `solver_name = 'analytical'` and passing instances of `Constraints` and `Covariance` as arguments.\n",
    "- Create an `OptimizationData` object that contains an element `return_series`, which consists of the synthetic data generated in part 1.a).\n",
    "- Solve the optimization problem using the created `MinVariance` object and compare the results to those obtained in part 1.c).\n"
   ]
  },
  {
   "cell_type": "code",
   "metadata": {
    "ExecuteTime": {
     "end_time": "2025-03-17T21:55:56.533074Z",
     "start_time": "2025-03-17T21:55:56.528666Z"
    }
   },
   "source": [
    "# Define class MinVariance\n",
    "class MinVariance(Optimization):\n",
    "\n",
    "    def __init__(self,\n",
    "                 constraints: Constraints,\n",
    "                 covariance: Optional[Covariance] = None,\n",
    "                 **kwargs):\n",
    "        super().__init__(\n",
    "            constraints=constraints,\n",
    "            **kwargs\n",
    "        )\n",
    "        self.covariance = Covariance() if covariance is None else covariance\n",
    "\n",
    "        self.asset_names = constraints.ids\n",
    "\n",
    "    def set_objective(self, optimization_data: OptimizationData) -> None:\n",
    "        \"\"\"From the data computes the covariance matrix.\"\"\"\n",
    "        X = optimization_data['return_series']\n",
    "        covmat = self.covariance.estimate(X=X, inplace=False)\n",
    "        self.objective = Objective(\n",
    "            P = covmat,\n",
    "        )\n",
    "        return None\n",
    "\n",
    "    def solve(self) -> None:\n",
    "        if self.params.get('solver_name') == 'analytical':\n",
    "            assert all(constr is None for constr in self.constraints.linear.values()), \"Linear constraints are not supported for analytical solver.\"\n",
    "\n",
    "            GhAb = self.constraints.to_GhAb()\n",
    "            obj_coeff = self.objective.coefficients\n",
    "\n",
    "            Sigma = obj_coeff['P']\n",
    "            A = GhAb['A']\n",
    "            b = GhAb['b']\n",
    "\n",
    "            if b.ndim == 0:\n",
    "                b = b.reshape(-1, 1)\n",
    "\n",
    "            inner_matrix_inv = np.linalg.inv(A @ np.linalg.inv(Sigma) @ A.T)\n",
    "            weights = np.linalg.inv(Sigma) @ A.T @ inner_matrix_inv @ b\n",
    "            weights = list(weights.flatten())\n",
    "\n",
    "            self.results.update({\n",
    "                'weights': dict(zip(self.asset_names, weights)),\n",
    "                'status': True\n",
    "            })\n",
    "\n",
    "            return None\n",
    "        else:\n",
    "            return super().solve()\n",
    "\n",
    "\n",
    "# Create a constraints object with just a budget constraint# Instantiate the Constraints class\n",
    "constraints = Constraints(ids=df.columns.tolist())\n",
    "constraints.add_budget(rhs=task_config.TOTAL_EXPOSURE, sense='=')\n",
    "\n",
    "# Instantiate the MinVariance class\n",
    "min_variance = MinVariance(\n",
    "    constraints=constraints,\n",
    "    covariance=covariance,\n",
    "    solver_name='analytical'\n",
    ")\n",
    "\n",
    "# Prepare the optimization data and prepare the optimization problem\n",
    "optimization_data = OptimizationData(return_series=df)\n",
    "min_variance.set_objective(optimization_data)\n",
    "\n",
    "# Solve the optimization problem and print the weights\n",
    "min_variance.solve()\n",
    "optimal_weights = min_variance.results['weights']\n",
    "\n",
    "assert np.isclose(sum(optimal_weights.values()), task_config.TOTAL_EXPOSURE, atol=1e-6), \"Total exposure is not correct!\""
   ],
   "outputs": [],
   "execution_count": 453
  }
 ],
 "metadata": {
  "kernelspec": {
   "display_name": ".venv",
   "language": "python",
   "name": "python3"
  },
  "language_info": {
   "codemirror_mode": {
    "name": "ipython",
    "version": 3
   },
   "file_extension": ".py",
   "mimetype": "text/x-python",
   "name": "python",
   "nbconvert_exporter": "python",
   "pygments_lexer": "ipython3",
   "version": "3.10.11"
  }
 },
 "nbformat": 4,
 "nbformat_minor": 2
}
