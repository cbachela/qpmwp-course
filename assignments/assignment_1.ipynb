{
 "cells": [
  {
   "cell_type": "markdown",
   "metadata": {},
   "source": [
    "# Assignment 1\n",
    "\n",
    "Deadline: 19.03.2025, 12:00 CET\n",
    "\n",
    "<Add your name, student-id and emal address>\n",
    "\n",
    "Nicolas Schärer, 20-931-507, nicolasalexander.schaerer@uzh.ch"
   ]
  },
  {
   "cell_type": "code",
   "execution_count": null,
   "metadata": {},
   "outputs": [],
   "source": []
  },
  {
   "cell_type": "code",
   "execution_count": 10,
   "metadata": {},
   "outputs": [],
   "source": [
    "# Import standard libraries\n",
    "import os\n",
    "import sys\n",
    "import timeit # To compute runtimes\n",
    "from typing import Optional\n",
    "\n",
    "# Import third-party libraries\n",
    "import numpy as np\n",
    "import pandas as pd\n",
    "import matplotlib.pyplot as plt\n",
    "\n",
    "# Import local modules\n",
    "project_root = os.path.dirname(os.path.dirname(os.getcwd()))   # Change this path if needed\n",
    "src_path = os.path.join(project_root, 'qpmwp-course\\\\src')\n",
    "sys.path.append(project_root)\n",
    "sys.path.append(src_path)\n",
    "from estimation.covariance import Covariance\n",
    "from estimation.expected_return import ExpectedReturn\n",
    "from optimization.constraints import Constraints\n",
    "from optimization.optimization import Optimization, Objective\n",
    "from optimization.optimization_data import OptimizationData\n",
    "from optimization.quadratic_program import QuadraticProgram, USABLE_SOLVERS"
   ]
  },
  {
   "cell_type": "markdown",
   "metadata": {},
   "source": [
    "## 1. Solver horse race\n",
    "\n",
    "### 1.a)\n",
    "(3 points)\n",
    "\n",
    "Generate a Multivariate-Normal random dataset of dimension TxN, T=1000, N=100, and compute a vector of expected returns, q, and a covariance matrix, P, using classes ExpectedReturn and Covariance respectively."
   ]
  },
  {
   "cell_type": "code",
   "execution_count": 9,
   "metadata": {},
   "outputs": [
    {
     "name": "stdout",
     "output_type": "stream",
     "text": [
      "Vector of expected returns (q):\n",
      "Asset_1      0.106090\n",
      "Asset_2      0.047949\n",
      "Asset_3      0.040634\n",
      "Asset_4      0.112643\n",
      "Asset_5      0.016012\n",
      "               ...   \n",
      "Asset_96     0.024888\n",
      "Asset_97    -0.001342\n",
      "Asset_98     0.055233\n",
      "Asset_99     0.075211\n",
      "Asset_100    0.053079\n",
      "Length: 100, dtype: float64\n",
      "\n",
      "Covariance matrix (P):\n",
      "            Asset_1   Asset_2   Asset_3   Asset_4   Asset_5   Asset_6  \\\n",
      "Asset_1    0.071118 -0.004695  0.005548  0.003404  0.001956 -0.007733   \n",
      "Asset_2   -0.004695  0.058252 -0.006099  0.000594  0.002496 -0.001899   \n",
      "Asset_3    0.005548 -0.006099  0.066384  0.004060 -0.002016  0.000425   \n",
      "Asset_4    0.003404  0.000594  0.004060  0.009004 -0.002528 -0.001842   \n",
      "Asset_5    0.001956  0.002496 -0.002016 -0.002528  0.072663 -0.009984   \n",
      "...             ...       ...       ...       ...       ...       ...   \n",
      "Asset_96   0.000988  0.003014  0.000529 -0.000922  0.001778  0.004799   \n",
      "Asset_97   0.007597 -0.002090  0.007329 -0.001076  0.004869 -0.002087   \n",
      "Asset_98   0.000126  0.002006 -0.001112 -0.000524 -0.000319  0.002812   \n",
      "Asset_99  -0.002576  0.001871  0.003228 -0.000962  0.001721  0.002548   \n",
      "Asset_100 -0.000976 -0.002915 -0.006141  0.000801 -0.001200  0.002632   \n",
      "\n",
      "            Asset_7   Asset_8   Asset_9  Asset_10  ...  Asset_91  Asset_92  \\\n",
      "Asset_1    0.014270 -0.009582  0.001214  0.000906  ...  0.006990 -0.000412   \n",
      "Asset_2   -0.000545  0.002930 -0.002664 -0.001126  ...  0.002787  0.000007   \n",
      "Asset_3   -0.002174  0.003336 -0.001646  0.003221  ...  0.000447  0.003362   \n",
      "Asset_4    0.001242 -0.001862 -0.000046 -0.000543  ...  0.001602  0.000825   \n",
      "Asset_5   -0.006906 -0.009547  0.002784 -0.004524  ... -0.000714  0.000453   \n",
      "...             ...       ...       ...       ...  ...       ...       ...   \n",
      "Asset_96   0.002053  0.002922 -0.000909 -0.000898  ... -0.001539  0.001290   \n",
      "Asset_97   0.001917  0.001423  0.000568  0.003262  ... -0.001670  0.002469   \n",
      "Asset_98   0.001643  0.001513  0.000061 -0.000258  ... -0.001344 -0.000236   \n",
      "Asset_99  -0.002256  0.001575  0.000178 -0.002149  ... -0.003014  0.000393   \n",
      "Asset_100 -0.005514 -0.000115  0.001274 -0.002407  ... -0.002446  0.004431   \n",
      "\n",
      "           Asset_93  Asset_94  Asset_95  Asset_96  Asset_97  Asset_98  \\\n",
      "Asset_1    0.000215 -0.003213 -0.001729  0.000988  0.007597  0.000126   \n",
      "Asset_2   -0.002620  0.000765  0.003863  0.003014 -0.002090  0.002006   \n",
      "Asset_3   -0.001687 -0.003708 -0.005397  0.000529  0.007329 -0.001112   \n",
      "Asset_4    0.000598  0.001147 -0.000560 -0.000922 -0.001076 -0.000524   \n",
      "Asset_5    0.002408  0.002355 -0.000574  0.001778  0.004869 -0.000319   \n",
      "...             ...       ...       ...       ...       ...       ...   \n",
      "Asset_96   0.000009  0.000183 -0.000412  0.026620  0.004566  0.000162   \n",
      "Asset_97   0.000558 -0.001603 -0.005249  0.004566  0.033173 -0.001843   \n",
      "Asset_98  -0.000115  0.000950  0.000222  0.000162 -0.001843  0.006222   \n",
      "Asset_99  -0.000177 -0.001450  0.001389 -0.000066  0.005311  0.001595   \n",
      "Asset_100  0.000466  0.001193 -0.000911  0.002986  0.000401 -0.001554   \n",
      "\n",
      "           Asset_99  Asset_100  \n",
      "Asset_1   -0.002576  -0.000976  \n",
      "Asset_2    0.001871  -0.002915  \n",
      "Asset_3    0.003228  -0.006141  \n",
      "Asset_4   -0.000962   0.000801  \n",
      "Asset_5    0.001721  -0.001200  \n",
      "...             ...        ...  \n",
      "Asset_96  -0.000066   0.002986  \n",
      "Asset_97   0.005311   0.000401  \n",
      "Asset_98   0.001595  -0.001554  \n",
      "Asset_99   0.017464  -0.002604  \n",
      "Asset_100 -0.002604   0.036594  \n",
      "\n",
      "[100 rows x 100 columns]\n"
     ]
    }
   ],
   "source": [
    "\n",
    "# Set the dimensions\n",
    "T = 1000  # Number of time periods\n",
    "N = 100   # Number of assets\n",
    "\n",
    "# Generate a random mean vector and covariance matrix for the multivariate normal distribution\n",
    "\n",
    "# here we went with a normal distributed mean, loc = mean = 3%, scale = std. deviation = 0.05\n",
    "# could use .uniform instead low=0.01, high =0.1, size = N => here every value as likely as the other\n",
    "mean = np.random.normal(loc=0.05, scale=0.03, size=N)\n",
    "# cov = <your code here>\n",
    "# Generate random standard deviations (volatility between 5% and 30%)\n",
    "std_devs = np.random.uniform(0.05, 0.3, size=N)\n",
    "\n",
    "# Create a random matrix\n",
    "A = np.random.randn(N, N)\n",
    "\n",
    "# Generate a positive semi-definite covariance matrix -> eigenwert isnt negative\n",
    "cov = np.dot(A, A.T)\n",
    "\n",
    "# Normalize and scale using std deviations\n",
    "cov = (cov / np.max(np.abs(cov))) * np.outer(std_devs, std_devs)\n",
    "\n",
    "# Generate the Multivariate-Normal random dataset random.multivariate_normal(mean, cov, size=T, check_valid='warn', tol=1e-8)\n",
    "data = np.random.multivariate_normal(mean, cov, size=T, check_valid='warn', tol=1e-8)\n",
    "\n",
    "# Convert the dataset to a DataFrame for easier manipulation\n",
    "df = pd.DataFrame(data, columns=[f'Asset_{i+1}' for i in range(N)])\n",
    "\n",
    "# Compute the vector of expected returns (mean returns) from df\n",
    "q = df.mean()\n",
    "\n",
    "# Compute the covariance matrix from df\n",
    "P = df.cov()\n",
    "\n",
    "# Display the results\n",
    "print(\"Vector of expected returns (q):\") #mean return of each asset over time\n",
    "print(q)\n",
    "\n",
    "print(\"\\nCovariance matrix (P):\") #covariance matrix (how assets move together) -> isnt exactly the same as created due to randomness\n",
    "print(P)"
   ]
  },
  {
   "cell_type": "markdown",
   "metadata": {},
   "source": [
    "### 1.b)\n",
    "(3 points)\n",
    "\n",
    "Instantiate a constraints object by injecting column names of the data created in 1.a) as ids and add:\n",
    "- a budget constaint (i.e., asset weights have to sum to one)\n",
    "- lower bounds of 0.0 for all assets\n",
    "- upper bounds of 0.2 for all assets\n",
    "- group contraints such that the sum of the weights of the first 30 assets is <= 0.3, the sum of assets 31 to 60 is <= 0.4 and the sum of assets 61 to 100 is <= 0.5"
   ]
  },
  {
   "cell_type": "markdown",
   "metadata": {},
   "source": []
  },
  {
   "cell_type": "code",
   "execution_count": null,
   "metadata": {},
   "outputs": [
    {
     "data": {
      "text/plain": [
       "{'G':    Asset_1  Asset_2  Asset_3  Asset_4  Asset_5  Asset_6  Asset_7  Asset_8  \\\n",
       " 0      1.0      1.0      1.0      1.0      1.0      1.0      1.0      1.0   \n",
       " 1      0.0      0.0      0.0      0.0      0.0      0.0      0.0      0.0   \n",
       " 2      0.0      0.0      0.0      0.0      0.0      0.0      0.0      0.0   \n",
       " \n",
       "    Asset_9  Asset_10  ...  Asset_91  Asset_92  Asset_93  Asset_94  Asset_95  \\\n",
       " 0      1.0       1.0  ...       0.0       0.0       0.0       0.0       0.0   \n",
       " 1      0.0       0.0  ...       0.0       0.0       0.0       0.0       0.0   \n",
       " 2      0.0       0.0  ...       1.0       1.0       1.0       1.0       1.0   \n",
       " \n",
       "    Asset_96  Asset_97  Asset_98  Asset_99  Asset_100  \n",
       " 0       0.0       0.0       0.0       0.0        0.0  \n",
       " 1       0.0       0.0       0.0       0.0        0.0  \n",
       " 2       1.0       1.0       1.0       1.0        1.0  \n",
       " \n",
       " [3 rows x 100 columns],\n",
       " 'sense': 0    <=\n",
       " dtype: object,\n",
       " 'rhs': 0    0.3\n",
       " 1    0.4\n",
       " 2    0.5\n",
       " dtype: float64}"
      ]
     },
     "execution_count": 16,
     "metadata": {},
     "output_type": "execute_result"
    }
   ],
   "source": [
    "# Instantiate the Constraints class\n",
    "constraints = Constraints(ids = df.columns.tolist())\n",
    "\n",
    "# Add budget constraint\n",
    "constraints.add_budget(rhs=1, sense='=')\n",
    "\n",
    "# Add box constraints (i.e., lower and upper bounds)\n",
    "constraints.add_box(lower=0, upper=0.2)\n",
    "\n",
    "# Add group constraints\n",
    "G = pd.DataFrame(np.zeros((3, N)), columns=constraints.ids)\n",
    "G.iloc[0, 0:30] = 1\n",
    "G.iloc[1, 30:60] = 1\n",
    "G.iloc[2, 60:100] = 1\n",
    "h = pd.Series([0.3, 0.4, 0.5])\n",
    "constraints.add_linear(G=G, sense='<=', rhs=h)\n",
    "\n",
    "# Display the constraints\n",
    "constraints.budget\n",
    "constraints.box\n",
    "constraints.linear\n"
   ]
  },
  {
   "cell_type": "markdown",
   "metadata": {},
   "source": [
    "### 1.c) \n",
    "(4 points)\n",
    "\n",
    "Solve a Mean-Variance optimization problem (using coefficients P and q in the objective function) which satisfies the above defined constraints.\n",
    "Repeat the task for all open-source solvers in qpsolvers and compare the results in terms of:\n",
    "\n",
    "- runtime\n",
    "- accuracy: value of the primal problem.\n",
    "- reliability: are all constarints fulfilled? Extract primal resisduals, dual residuals and duality gap.\n",
    "\n",
    "Generate a DataFrame with the solvers as column names and the following row index: 'solution_found': bool, 'objective': float, 'primal_residual': float, 'dual_residual': float, 'duality_gap': float, 'runtime': float.\n",
    "\n",
    "Put NA's for solvers that failed for some reason (e.g., unable to install the package or solvers throws an error during execution). \n",
    "\n",
    "\n"
   ]
  },
  {
   "cell_type": "code",
   "execution_count": null,
   "metadata": {},
   "outputs": [
    {
     "ename": "ValueError",
     "evalue": "columns cannot be a set",
     "output_type": "error",
     "traceback": [
      "\u001b[0;31m---------------------------------------------------------------------------\u001b[0m",
      "\u001b[0;31mValueError\u001b[0m                                Traceback (most recent call last)",
      "\u001b[0;32m/tmp/ipykernel_6146/686280588.py\u001b[0m in \u001b[0;36m?\u001b[0;34m()\u001b[0m\n\u001b[1;32m      4\u001b[0m \u001b[0mGhAb\u001b[0m \u001b[0;34m=\u001b[0m \u001b[0mconstraints\u001b[0m\u001b[0;34m.\u001b[0m\u001b[0mto_GhAb\u001b[0m\u001b[0;34m(\u001b[0m\u001b[0;34m)\u001b[0m\u001b[0;34m\u001b[0m\u001b[0;34m\u001b[0m\u001b[0m\n\u001b[1;32m      5\u001b[0m \u001b[0;31m# Loop over solvers, instantiate the quadratic program, solve it and store the results\u001b[0m\u001b[0;34m\u001b[0m\u001b[0;34m\u001b[0m\u001b[0m\n\u001b[1;32m      6\u001b[0m \u001b[0;34m\u001b[0m\u001b[0m\n\u001b[1;32m      7\u001b[0m \u001b[0;31m# Initialize results DataFrame\u001b[0m\u001b[0;34m\u001b[0m\u001b[0;34m\u001b[0m\u001b[0m\n\u001b[0;32m----> 8\u001b[0;31m \u001b[0mresults\u001b[0m \u001b[0;34m=\u001b[0m \u001b[0mpd\u001b[0m\u001b[0;34m.\u001b[0m\u001b[0mDataFrame\u001b[0m\u001b[0;34m(\u001b[0m\u001b[0mindex\u001b[0m\u001b[0;34m=\u001b[0m\u001b[0;34m[\u001b[0m\u001b[0;34m'solution_found'\u001b[0m\u001b[0;34m,\u001b[0m \u001b[0;34m'objective'\u001b[0m\u001b[0;34m,\u001b[0m \u001b[0;34m'primal_residual'\u001b[0m\u001b[0;34m,\u001b[0m \u001b[0;34m'dual_residual'\u001b[0m\u001b[0;34m,\u001b[0m \u001b[0;34m'duality_gap'\u001b[0m\u001b[0;34m,\u001b[0m \u001b[0;34m'runtime'\u001b[0m\u001b[0;34m]\u001b[0m\u001b[0;34m,\u001b[0m \u001b[0mcolumns\u001b[0m\u001b[0;34m=\u001b[0m\u001b[0mUSABLE_SOLVERS\u001b[0m\u001b[0;34m)\u001b[0m\u001b[0;34m\u001b[0m\u001b[0;34m\u001b[0m\u001b[0m\n\u001b[0m\u001b[1;32m      9\u001b[0m \u001b[0;34m\u001b[0m\u001b[0m\n\u001b[1;32m     10\u001b[0m \u001b[0mresults\u001b[0m\u001b[0;34m\u001b[0m\u001b[0;34m\u001b[0m\u001b[0m\n",
      "\u001b[0;32m~/Documents/UZH/QPM/.venv/lib/python3.10/site-packages/pandas/core/frame.py\u001b[0m in \u001b[0;36m?\u001b[0;34m(self, data, index, columns, dtype, copy)\u001b[0m\n\u001b[1;32m    740\u001b[0m         \u001b[0;31m# GH47215\u001b[0m\u001b[0;34m\u001b[0m\u001b[0;34m\u001b[0m\u001b[0m\n\u001b[1;32m    741\u001b[0m         \u001b[0;32mif\u001b[0m \u001b[0misinstance\u001b[0m\u001b[0;34m(\u001b[0m\u001b[0mindex\u001b[0m\u001b[0;34m,\u001b[0m \u001b[0mset\u001b[0m\u001b[0;34m)\u001b[0m\u001b[0;34m:\u001b[0m\u001b[0;34m\u001b[0m\u001b[0;34m\u001b[0m\u001b[0m\n\u001b[1;32m    742\u001b[0m             \u001b[0;32mraise\u001b[0m \u001b[0mValueError\u001b[0m\u001b[0;34m(\u001b[0m\u001b[0;34m\"index cannot be a set\"\u001b[0m\u001b[0;34m)\u001b[0m\u001b[0;34m\u001b[0m\u001b[0;34m\u001b[0m\u001b[0m\n\u001b[1;32m    743\u001b[0m         \u001b[0;32mif\u001b[0m \u001b[0misinstance\u001b[0m\u001b[0;34m(\u001b[0m\u001b[0mcolumns\u001b[0m\u001b[0;34m,\u001b[0m \u001b[0mset\u001b[0m\u001b[0;34m)\u001b[0m\u001b[0;34m:\u001b[0m\u001b[0;34m\u001b[0m\u001b[0;34m\u001b[0m\u001b[0m\n\u001b[0;32m--> 744\u001b[0;31m             \u001b[0;32mraise\u001b[0m \u001b[0mValueError\u001b[0m\u001b[0;34m(\u001b[0m\u001b[0;34m\"columns cannot be a set\"\u001b[0m\u001b[0;34m)\u001b[0m\u001b[0;34m\u001b[0m\u001b[0;34m\u001b[0m\u001b[0m\n\u001b[0m\u001b[1;32m    745\u001b[0m \u001b[0;34m\u001b[0m\u001b[0m\n\u001b[1;32m    746\u001b[0m         \u001b[0;32mif\u001b[0m \u001b[0mcopy\u001b[0m \u001b[0;32mis\u001b[0m \u001b[0;32mNone\u001b[0m\u001b[0;34m:\u001b[0m\u001b[0;34m\u001b[0m\u001b[0;34m\u001b[0m\u001b[0m\n\u001b[1;32m    747\u001b[0m             \u001b[0;32mif\u001b[0m \u001b[0misinstance\u001b[0m\u001b[0;34m(\u001b[0m\u001b[0mdata\u001b[0m\u001b[0;34m,\u001b[0m \u001b[0mdict\u001b[0m\u001b[0;34m)\u001b[0m\u001b[0;34m:\u001b[0m\u001b[0;34m\u001b[0m\u001b[0;34m\u001b[0m\u001b[0m\n",
      "\u001b[0;31mValueError\u001b[0m: columns cannot be a set"
     ]
    }
   ],
   "source": [
    "# Extract the constraints in the format required by the solver\n",
    "from optimization.optimization import MeanVariance\n",
    "\n",
    "GhAb = constraints.to_GhAb()\n",
    "# Loop over solvers, instantiate the quadratic program, solve it and store the results\n",
    "\n",
    "# Initialize results DataFrame\n",
    "results = pd.DataFrame(index=['solution_found', 'objective', 'primal_residual', 'dual_residual', 'duality_gap', 'runtime'], columns=list(USABLE_SOLVERS))\n",
    "\n",
    "results\n"
   ]
  },
  {
   "cell_type": "markdown",
   "metadata": {},
   "source": [
    "Print and visualize the results"
   ]
  },
  {
   "cell_type": "code",
   "execution_count": null,
   "metadata": {},
   "outputs": [],
   "source": []
  },
  {
   "cell_type": "markdown",
   "metadata": {},
   "source": [
    "## 2. Analytical Solution to Minimum-Variance Problem\n",
    "\n",
    "(5 points)\n",
    "\n",
    "- Create a `MinVariance` class that follows the structure of the `MeanVariance` class.\n",
    "- Implement the `solve` method in `MinVariance` such that if `solver_name = 'analytical'`, the analytical solution is computed and stored within the object (if such a solution exists). If not, call the `solve` method from the parent class.\n",
    "- Create a `Constraints` object by injecting the same ids as in part 1.b) and add a budget constraint.\n",
    "- Instantiate a `MinVariance` object by setting `solver_name = 'analytical'` and passing instances of `Constraints` and `Covariance` as arguments.\n",
    "- Create an `OptimizationData` object that contains an element `return_series`, which consists of the synthetic data generated in part 1.a).\n",
    "- Solve the optimization problem using the created `MinVariance` object and compare the results to those obtained in part 1.c).\n"
   ]
  },
  {
   "cell_type": "code",
   "execution_count": null,
   "metadata": {},
   "outputs": [],
   "source": [
    "# Define class MinVariance\n",
    "class MinVariance(Optimization):\n",
    "\n",
    "    def __init__(self,\n",
    "                 constraints: Constraints,\n",
    "                 covariance: Optional[Covariance] = None,\n",
    "                 **kwargs):\n",
    "        super().__init__(\n",
    "            constraints=constraints,\n",
    "            **kwargs\n",
    "        )\n",
    "        self.covariance = Covariance() if covariance is None else covariance\n",
    "\n",
    "    def set_objective(self, optimization_data: OptimizationData) -> None:\n",
    "        #<your code here>\n",
    "\n",
    "    def solve(self) -> None:\n",
    "        if self.params.get('solver_name') == 'analytical':\n",
    "            #<your code here>\n",
    "            return None\n",
    "        else:\n",
    "            return super().solve()\n",
    "\n",
    "\n",
    "# Create a constraints object with just a budget constraint\n",
    "#<your code here>\n",
    "\n",
    "# Instantiate the MinVariance class\n",
    "#<your code here>\n",
    "\n",
    "# Prepare the optimization data and prepare the optimization problem\n",
    "#<your code here>\n",
    "\n",
    "# Solve the optimization problem and print the weights\n",
    "#<your code here>"
   ]
  }
 ],
 "metadata": {
  "kernelspec": {
   "display_name": "venv_310",
   "language": "python",
   "name": "python3"
  },
  "language_info": {
   "codemirror_mode": {
    "name": "ipython",
    "version": 3
   },
   "file_extension": ".py",
   "mimetype": "text/x-python",
   "name": "python",
   "nbconvert_exporter": "python",
   "pygments_lexer": "ipython3",
   "version": "3.10.11"
  }
 },
 "nbformat": 4,
 "nbformat_minor": 2
}
