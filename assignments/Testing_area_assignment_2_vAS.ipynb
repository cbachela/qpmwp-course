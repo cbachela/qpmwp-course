{
 "cells": [
  {
   "cell_type": "code",
   "execution_count": 2,
   "metadata": {},
   "outputs": [],
   "source": [
    "# Import standard libraries\n",
    "import types\n",
    "import os\n",
    "import sys\n",
    "\n",
    "# Import third-party libraries\n",
    "import numpy as np\n",
    "import pandas as pd"
   ]
  },
  {
   "cell_type": "code",
   "execution_count": 2,
   "metadata": {},
   "outputs": [
    {
     "name": "stdout",
     "output_type": "stream",
     "text": [
      "[1.  0.3 0.  0. ]\n",
      "[[1. 1. 1. 1. 0. 0. 0. 0.]\n",
      " [0. 0. 0. 0. 1. 0. 0. 0.]\n",
      " [0. 0. 0. 0. 0. 1. 0. 0.]\n",
      " [0. 0. 0. 0. 0. 0. 1. 0.]]\n"
     ]
    }
   ],
   "source": [
    "#### Test area equality constraints (Ax = b) ####\n",
    "\n",
    "n = 4\n",
    "A_aug = np.array([1,1,1,1,0,0,0,0])\n",
    "#A_aug = None\n",
    "A_add_con_1 = np.zeros(2 * n)\n",
    "A_add_con_2 = np.zeros(2 * n)\n",
    "A_add_con_3 = np.zeros(2 * n)\n",
    "A_add_con_1[n + 0] = 1\n",
    "A_add_con_2[n + 1] = 1\n",
    "A_add_con_3[n + 2] = 1\n",
    "\n",
    "# Take a snapshot of globals so it doesn't change during iteration\n",
    "global_vars = dict(globals())\n",
    "A_add_con_list = []\n",
    "\n",
    "for name, con in global_vars.items():\n",
    "    if name.startswith(\"A_add_con_\") and isinstance(con, np.ndarray):\n",
    "        if not np.all(con == 0):\n",
    "            A_add_con_list.append(con)\n",
    "\n",
    "# Stack them if any valid constraints exist\n",
    "A_add_cons = np.vstack(A_add_con_list) if A_add_con_list else None\n",
    "\n",
    "if A_add_cons is not None:\n",
    "    if A_aug is not None:\n",
    "        A_aug = np.vstack([A_aug, A_add_cons])\n",
    "    else:\n",
    "     A_aug = A_add_cons.reshape(len(A_add_cons), -1)\n",
    "\n",
    "b = np.array([1])\n",
    "#b = None\n",
    "\n",
    "if A_add_cons is not None:\n",
    "    b_add_cons = np.zeros(len(A_add_cons))\n",
    "    b_add_cons[0] = 0.3\n",
    "    #b_add_cons[1] = 0.5\n",
    "    #b_add_cons[2] = 2\n",
    "    if b is not None:\n",
    "        b_aug = np.hstack([b, b_add_cons])\n",
    "    else:\n",
    "        b_aug = A_add_cons.reshape(len(A_add_cons), -1)\n",
    "else:\n",
    "    b_aug = b\n",
    "\n",
    "print(b_aug)\n",
    "print(A_aug)\n",
    "#print(len(A_aug))\n",
    "#print(len(b_aug))"
   ]
  },
  {
   "cell_type": "code",
   "execution_count": 11,
   "metadata": {},
   "outputs": [
    {
     "name": "stdout",
     "output_type": "stream",
     "text": [
      "[[ 1.  0. -1.  0.]\n",
      " [-1.  0. -1.  0.]\n",
      " [ 0.  1.  0. -1.]\n",
      " [ 0. -1.  0. -1.]\n",
      " [ 0.  0.  1.  1.]]\n",
      "[ 0.7 -0.7  0.3 -0.3  0.5]\n"
     ]
    }
   ],
   "source": [
    "#### Test area inequality constraints (Gx <= h) ####\n",
    "\n",
    "n = 2\n",
    "#G = np.ones((n, n))\n",
    "G = None\n",
    "G_add_con_list = []\n",
    "\n",
    "if G is not None:\n",
    "    G_aug = np.pad(G, ((0, 0), (0, n)), mode='constant')\n",
    "    for i in range(n):\n",
    "        row = np.zeros(2 * n)\n",
    "        row[i] = 1\n",
    "        row[i + n] = -1\n",
    "        G_add_con_list.append(row)\n",
    "        neg_row = row.copy()\n",
    "        neg_row[i] = -1\n",
    "        neg_row[i + n] = -1\n",
    "        G_add_con_list.append(neg_row)\n",
    "    row_tau = np.hstack([np.zeros(n), np.ones(n)])\n",
    "    G_aug = np.vstack([G_aug, G_add_con_list, row_tau])\n",
    "else:\n",
    "    for i in range(n):\n",
    "        row = np.zeros(2 * n)\n",
    "        row[i] = 1\n",
    "        row[i + n] = -1\n",
    "        G_add_con_list.append(row)\n",
    "        neg_row = row.copy()\n",
    "        neg_row[i] = -1\n",
    "        neg_row[i + n] = -1\n",
    "        G_add_con_list.append(neg_row)\n",
    "    row_tau = np.hstack([np.zeros(n), np.ones(n)])\n",
    "    G_aug = np.vstack([G_add_con_list, row_tau])\n",
    "\n",
    "#h = np.ones(n)\n",
    "h = None\n",
    "x_init = np.array([0.7, 0.3])\n",
    "to_budget = 0.5\n",
    "\n",
    "if h is not None:\n",
    "    x_init_adj = np.empty((2 * len(x_init),), dtype=float)\n",
    "    x_init_adj[0::2] = x_init # Start at index 0, go to the end, and take every 2nd element and assign \"x_init\" to it.\n",
    "    x_init_adj[1::2] = -x_init # Start at index 1, go to the end, and take every 2nd element and assign \"-x_init\" to it.\n",
    "    h_aug = np.hstack([h, x_init_adj, to_budget])\n",
    "else:\n",
    "    x_init_adj = np.empty((2 * len(x_init),), dtype=float)\n",
    "    x_init_adj[0::2] = x_init\n",
    "    x_init_adj[1::2] = -x_init\n",
    "    h_aug = np.hstack([x_init_adj, to_budget])\n",
    "\n",
    "print(G_aug)\n",
    "print(h_aug)"
   ]
  }
 ],
 "metadata": {
  "kernelspec": {
   "display_name": "Python 3",
   "language": "python",
   "name": "python3"
  },
  "language_info": {
   "codemirror_mode": {
    "name": "ipython",
    "version": 3
   },
   "file_extension": ".py",
   "mimetype": "text/x-python",
   "name": "python",
   "nbconvert_exporter": "python",
   "pygments_lexer": "ipython3",
   "version": "3.11.9"
  }
 },
 "nbformat": 4,
 "nbformat_minor": 2
}
