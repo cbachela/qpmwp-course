{
 "cells": [
  {
   "cell_type": "markdown",
   "metadata": {},
   "source": [
    "# Assignment 1\n",
    "\n",
    "Deadline: 19.03.2025, 12:00 CET\n",
    "\n",
    "<Add your name, student-id and emal address>\n",
    "* Zihan Liu, 22-736-938, zihan.liu@uzh.ch\n",
    "* Yujie Tao, 23-744-378, yujie.tao@uzh.ch\n",
    "* Weijie Chen, 23-743-727, weijie.chen@uzh.ch\n",
    "* Schmidli Adrian, 17-728-833, adrian.schmidli@uzh.ch"
   ]
  },
  {
   "cell_type": "code",
   "execution_count": 111,
   "metadata": {},
   "outputs": [],
   "source": [
    "# Import standard libraries\n",
    "import os\n",
    "import sys\n",
    "import timeit # To compute runtimes\n",
    "from typing import Optional\n",
    "\n",
    "# Import third-party libraries\n",
    "import numpy as np\n",
    "import pandas as pd\n",
    "import matplotlib.pyplot as plt\n",
    "\n",
    "# Import local modules\n",
    "project_root = os.path.dirname(os.path.dirname(os.getcwd()))   # Change this path if needed\n",
    "src_path = os.path.join(project_root, 'qpmwp-course\\\\src')\n",
    "sys.path.append(project_root)\n",
    "sys.path.append(src_path)\n",
    "from estimation.covariance import Covariance\n",
    "from estimation.expected_return import ExpectedReturn\n",
    "from optimization.constraints import Constraints\n",
    "from optimization.optimization import Optimization, Objective\n",
    "from optimization.optimization_data import OptimizationData\n",
    "from optimization.quadratic_program import QuadraticProgram, USABLE_SOLVERS"
   ]
  },
  {
   "cell_type": "code",
   "execution_count": 114,
   "metadata": {},
   "outputs": [
    {
     "name": "stdout",
     "output_type": "stream",
     "text": [
      "                  AT        AU        BE        CA        CH        DE  \\\n",
      "Index                                                                    \n",
      "2023-04-05 -0.004435 -0.000488  0.005040 -0.005312  0.003285 -0.005872   \n",
      "2023-04-06  0.010041 -0.001429  0.006269  0.001646  0.009571  0.004612   \n",
      "2023-04-07  0.000000  0.000000  0.000000  0.000000  0.000000  0.000000   \n",
      "2023-04-10  0.000000  0.000000  0.000000  0.003630  0.000000  0.000000   \n",
      "2023-04-11  0.014592  0.013067 -0.000486  0.007168  0.003041  0.004867   \n",
      "2023-04-12 -0.002488  0.004714 -0.012072  0.001708  0.000017  0.002662   \n",
      "2023-04-13  0.001297 -0.003806 -0.000049  0.004728  0.000913  0.002400   \n",
      "2023-04-14  0.009533  0.004829  0.007622  0.001950  0.008387  0.005797   \n",
      "2023-04-17 -0.005665  0.003404  0.004917  0.003392 -0.001485 -0.002086   \n",
      "2023-04-18  0.004836 -0.003262 -0.007127  0.002161  0.004373  0.006089   \n",
      "\n",
      "                  DK        ES        FI        FR  \n",
      "Index                                               \n",
      "2023-04-05 -0.005418  0.010036 -0.002183 -0.002902  \n",
      "2023-04-06  0.000000  0.009644  0.001607  0.001296  \n",
      "2023-04-07  0.000000  0.000000  0.000000  0.000000  \n",
      "2023-04-10  0.000000  0.000000  0.000000  0.000000  \n",
      "2023-04-11  0.005293 -0.010769  0.010785  0.008029  \n",
      "2023-04-12  0.012029  0.006452 -0.005646  0.000822  \n",
      "2023-04-13  0.012177  0.002304  0.000147  0.011425  \n",
      "2023-04-14  0.020079  0.005836  0.003530  0.004589  \n",
      "2023-04-17  0.013446 -0.000240 -0.000671 -0.002323  \n",
      "2023-04-18 -0.002980  0.005006 -0.006012  0.004680  \n"
     ]
    }
   ],
   "source": [
    "df = pd.read_csv('c:/Users/admin\\OneDrive/Dokumente/Studium UZH/Master/5. Semester/Quantitative Portfolio Management with Python/Assingments/1. Assingment/2. Werkstatt/qpmwp-course/data/msci_country_indices.csv',\n",
    "                 index_col=0, header=0, parse_dates=True, date_format='%d-%m-%Y')\n",
    "df = df.tail(10).iloc[:, :10]\n",
    "print(df)\n",
    "# df.to_csv('test.csv', index=False)"
   ]
  },
  {
   "cell_type": "code",
   "execution_count": 115,
   "metadata": {},
   "outputs": [
    {
     "name": "stdout",
     "output_type": "stream",
     "text": [
      "AT    0.002751\n",
      "AU    0.001692\n",
      "BE    0.000394\n",
      "CA    0.002102\n",
      "CH    0.002804\n",
      "DE    0.001840\n",
      "DK    0.005431\n",
      "ES    0.002810\n",
      "FI    0.000145\n",
      "FR    0.002552\n",
      "dtype: float64\n",
      "AT    0.002771\n",
      "AU    0.001703\n",
      "BE    0.000411\n",
      "CA    0.002107\n",
      "CH    0.002810\n",
      "DE    0.001847\n",
      "DK    0.005463\n",
      "ES    0.002827\n",
      "FI    0.000156\n",
      "FR    0.002562\n",
      "dtype: float64\n",
      "AT    0.0\n",
      "AU    0.0\n",
      "BE    0.0\n",
      "CA    0.0\n",
      "CH    0.0\n",
      "DE    0.0\n",
      "DK    0.0\n",
      "ES    0.0\n",
      "FI    0.0\n",
      "FR    0.0\n",
      "dtype: float64\n",
      "AT    0.002692\n",
      "AU    0.001514\n",
      "BE   -0.000321\n",
      "CA    0.002683\n",
      "CH    0.002701\n",
      "DE    0.002629\n",
      "DK    0.007262\n",
      "ES    0.002627\n",
      "FI   -0.000573\n",
      "FR    0.003194\n",
      "dtype: float64\n"
     ]
    }
   ],
   "source": [
    "mu_1 = ExpectedReturn(method='geometric').estimate(df, inplace=False)\n",
    "mu_2 = ExpectedReturn(method='arithmetic').estimate(df, inplace=False)\n",
    "mu_3 = ExpectedReturn(method='harmonic').estimate(df, inplace=False)\n",
    "mu_4 = ExpectedReturn(method='ewm', scalefactor = 1, span = 10, reverse = True).estimate(df, inplace=False)\n",
    "print(mu_1)\n",
    "print(mu_2)\n",
    "print(mu_3)\n",
    "print(mu_4)"
   ]
  },
  {
   "cell_type": "code",
   "execution_count": 116,
   "metadata": {},
   "outputs": [
    {
     "name": "stdout",
     "output_type": "stream",
     "text": [
      "{'method': 'harmonic', 'scalefactor': 1}\n",
      "AT    0.0\n",
      "AU    0.0\n",
      "BE    0.0\n",
      "CA    0.0\n",
      "CH    0.0\n",
      "DE    0.0\n",
      "DK    0.0\n",
      "ES    0.0\n",
      "FI    0.0\n",
      "FR    0.0\n",
      "dtype: float64\n"
     ]
    }
   ],
   "source": [
    "er = ExpectedReturn(method='harmonic')\n",
    "print(er.spec)  # <- this is the spec dictionary inside the object\n",
    "mu_3 = er.estimate(df, inplace=False)\n",
    "print(mu_3)"
   ]
  },
  {
   "cell_type": "markdown",
   "metadata": {},
   "source": [
    "## 1. Solver Horse Race\n",
    "\n",
    "### 1.a)\n",
    "(3 points)\n",
    "\n",
    "Generate a Multivariate-Normal random dataset of dimension TxN, T=1000, N=100, and compute a vector of expected returns, q, and a covariance matrix, P, using classes ExpectedReturn and Covariance respectively."
   ]
  },
  {
   "cell_type": "code",
   "execution_count": null,
   "metadata": {},
   "outputs": [],
   "source": [
    "\n",
    "# Set the dimensions\n",
    "T = 1000  # Number of time periods\n",
    "N = 100   # Number of assets\n",
    "\n",
    "# Generate a random mean vector and covariance matrix for the multivariate normal distribution\n",
    "mean = \n",
    "cov = \n",
    "\n",
    "\n",
    "\n",
    "\n",
    "# Generate the Multivariate-Normal random dataset\n",
    "# data = <your code here>\n",
    "\n",
    "# Convert the dataset to a DataFrame for easier manipulation\n",
    "df = pd.DataFrame(data, columns=[f'Asset_{i+1}' for i in range(N)])\n",
    "\n",
    "# Compute the vector of expected returns (mean returns) from df\n",
    "# q =  <your code here>\n",
    "\n",
    "# Compute the covariance matrix from df\n",
    "# P = <your code here>\n",
    "\n",
    "# Display the results\n",
    "print(\"Vector of expected returns (q):\")\n",
    "print(q)\n",
    "\n",
    "print(\"\\nCovariance matrix (P):\")\n",
    "print(P)"
   ]
  },
  {
   "cell_type": "markdown",
   "metadata": {},
   "source": [
    "### 1.b)\n",
    "(3 points)\n",
    "\n",
    "Instantiate a constraints object by injecting column names of the data created in 1.a) as ids and add:\n",
    "- a budget constaint (i.e., asset weights have to sum to one)\n",
    "- lower bounds of 0.0 for all assets\n",
    "- upper bounds of 0.2 for all assets\n",
    "- group contraints such that the sum of the weights of the first 30 assets is <= 0.3, the sum of assets 31 to 60 is <= 0.4 and the sum of assets 61 to 100 is <= 0.5"
   ]
  },
  {
   "cell_type": "markdown",
   "metadata": {},
   "source": []
  },
  {
   "cell_type": "code",
   "execution_count": null,
   "metadata": {},
   "outputs": [
    {
     "data": {
      "text/plain": [
       "<optimization.constraints.Constraints at 0x1663129c9d0>"
      ]
     },
     "execution_count": 3,
     "metadata": {},
     "output_type": "execute_result"
    }
   ],
   "source": [
    "# Instantiate the Constraints class\n",
    "constraints = Constraints(ids = df.columns.tolist())\n",
    "\n",
    "# Add budget constraint\n",
    "#<your code here>\n",
    "\n",
    "# Add box constraints (i.e., lower and upper bounds)\n",
    "#<your code here>\n",
    "\n",
    "# Add linear constraints\n",
    "#<your code here>"
   ]
  },
  {
   "cell_type": "markdown",
   "metadata": {},
   "source": [
    "### 1.c) \n",
    "(4 points)\n",
    "\n",
    "Solve a Mean-Variance optimization problem (using coefficients P and q in the objective function) which satisfies the above defined constraints.\n",
    "Repeat the task for all open-source solvers in qpsolvers and compare the results in terms of:\n",
    "\n",
    "- runtime\n",
    "- accuracy: value of the primal problem.\n",
    "- reliability: are all constarints fulfilled? Extract primal resisduals, dual residuals and duality gap.\n",
    "\n",
    "Generate a DataFrame with the solvers as column names and the following row index: 'solution_found': bool, 'objective': float, 'primal_residual': float, 'dual_residual': float, 'duality_gap': float, 'runtime': float.\n",
    "\n",
    "Put NA's for solvers that failed for some reason (e.g., unable to install the package or solvers throws an error during execution). \n",
    "\n",
    "\n"
   ]
  },
  {
   "cell_type": "code",
   "execution_count": null,
   "metadata": {},
   "outputs": [],
   "source": [
    "# Extract the constraints in the format required by the solver\n",
    "GhAb = constraints.to_GhAb()\n",
    "\n",
    "# Loop over solvers, instantiate the quadratic program, solve it and store the results\n",
    "#<your code here>"
   ]
  },
  {
   "cell_type": "markdown",
   "metadata": {},
   "source": [
    "Print and visualize the results"
   ]
  },
  {
   "cell_type": "code",
   "execution_count": 5,
   "metadata": {},
   "outputs": [],
   "source": [
    "#<your code here>"
   ]
  },
  {
   "cell_type": "markdown",
   "metadata": {},
   "source": [
    "## 2. Analytical Solution to Minimum-Variance Problem\n",
    "\n",
    "(5 points)\n",
    "\n",
    "- Create a `MinVariance` class that follows the structure of the `MeanVariance` class.\n",
    "- Implement the `solve` method in `MinVariance` such that if `solver_name = 'analytical'`, the analytical solution is computed and stored within the object (if such a solution exists). If not, call the `solve` method from the parent class.\n",
    "- Create a `Constraints` object by injecting the same ids as in part 1.b) and add a budget constraint.\n",
    "- Instantiate a `MinVariance` object by setting `solver_name = 'analytical'` and passing instances of `Constraints` and `Covariance` as arguments.\n",
    "- Create an `OptimizationData` object that contains an element `return_series`, which consists of the synthetic data generated in part 1.a).\n",
    "- Solve the optimization problem using the created `MinVariance` object and compare the results to those obtained in part 1.c).\n"
   ]
  },
  {
   "cell_type": "code",
   "execution_count": null,
   "metadata": {},
   "outputs": [],
   "source": [
    "# Define class MinVariance\n",
    "class MinVariance(Optimization):\n",
    "\n",
    "    def __init__(self,\n",
    "                 constraints: Constraints,\n",
    "                 covariance: Optional[Covariance] = None,\n",
    "                 **kwargs):\n",
    "        super().__init__(\n",
    "            constraints=constraints,\n",
    "            **kwargs\n",
    "        )\n",
    "        self.covariance = Covariance() if covariance is None else covariance\n",
    "\n",
    "    def set_objective(self, optimization_data: OptimizationData) -> None:\n",
    "        #<your code here>\n",
    "\n",
    "    def solve(self) -> None:\n",
    "        if self.params.get('solver_name') == 'analytical':\n",
    "            #<your code here>\n",
    "            return None\n",
    "        else:\n",
    "            return super().solve()\n",
    "\n",
    "\n",
    "# Create a constraints object with just a budget constraint\n",
    "#<your code here>\n",
    "\n",
    "# Instantiate the MinVariance class\n",
    "#<your code here>\n",
    "\n",
    "# Prepare the optimization data and prepare the optimization problem\n",
    "#<your code here>\n",
    "\n",
    "# Solve the optimization problem and print the weights\n",
    "#<your code here>"
   ]
  }
 ],
 "metadata": {
  "kernelspec": {
   "display_name": "Python 3",
   "language": "python",
   "name": "python3"
  },
  "language_info": {
   "codemirror_mode": {
    "name": "ipython",
    "version": 3
   },
   "file_extension": ".py",
   "mimetype": "text/x-python",
   "name": "python",
   "nbconvert_exporter": "python",
   "pygments_lexer": "ipython3",
   "version": "3.11.9"
  }
 },
 "nbformat": 4,
 "nbformat_minor": 2
}
