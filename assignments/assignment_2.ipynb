{
 "cells": [
  {
   "cell_type": "markdown",
   "metadata": {},
   "source": [
    "# Assignment 2\n",
    "\n",
    "Deadline: 26.03.2025, 12:00 CET\n",
    "\n",
    "<Add your name, student-id and emal address>"
   ]
  },
  {
   "cell_type": "markdown",
   "metadata": {},
   "source": [
    "## 1. Linearization of Turnover\n",
    "\n",
    "**(15 points)**\n",
    "\n",
    "Turnover constraints are used to limit the amount of change in portfolio weights between periods, helping to manage transaction costs and maintain portfolio stability.\n",
    "\n",
    "Your task is to implement a method `linearize_turnover_constraint` for the class `QuadraticProgram`, which modifies the quadratic programming problem to incorporate a linearized turnover constraint. This will involve updating the objective function coefficients, equality and inequality constraints, as well as the lower and upper bounds of the problem. \n",
    "\n",
    "Additionally, complete the example provided below to demonstrate that your method functions correctly.\n",
    "\n",
    "In class, we discussed a solution that involved augmenting the dimensionality by a factor of three. Here, you are asked to implement an alternative method that involves a two-fold increase in dimensions. If you are unable to implement the two-fold method, you may proceed with the three-fold approach.\n",
    "\n",
    "### Function Parameters:\n",
    "- `x_init` (np.ndarray): The initial portfolio weights.\n",
    "- `to_budget` (float, optional): The maximum allowable turnover. Defaults to `float('inf')`.\n",
    "\n",
    "### Steps for Function Implementation:\n",
    "\n",
    "As discussed in the lecture, introduce auxiliary variables and augment the matrices/vectors used for optimization.\n",
    "\n",
    "- **Objective Function Coefficients**:  \n",
    "  Pad the existing objective function coefficients (`P` and `q`) to accommodate the new variables introduced by the turnover constraint.  \n",
    "  *Note*: \"Padding\" refers to adding extra elements (typically zeros) to an array or matrix to increase its size to a desired shape.\n",
    "\n",
    "- **Equality Constraints**:  \n",
    "  Pad the existing equality constraint matrix (`A`) to account for the new variables.\n",
    "\n",
    "- **Inequality Constraints**:  \n",
    "  Pad the existing inequality constraint matrix ('G') and vector ('h') and further add a new inequality constraint row to incorporate the turnover constraint.  \n",
    "\n",
    "- **Lower and Upper Bounds**:  \n",
    "  Pad the existing lower (`lb`) and upper (`ub`) bounds to accommodate the new variables.\n",
    "\n",
    "- **Update Problem Data**:  \n",
    "  Overwrite the original problem data in the `QuadraticProgram` class with the updated matrices and vectors to include the linearized turnover constraint."
   ]
  },
  {
   "cell_type": "code",
   "execution_count": 107,
   "metadata": {},
   "outputs": [],
   "source": [
    "# Import standard libraries\n",
    "import types\n",
    "import os\n",
    "import sys\n",
    "\n",
    "# Import third-party libraries\n",
    "import numpy as np\n",
    "import pandas as pd\n",
    "\n",
    "# Import local modules\n",
    "project_root = os.path.dirname(os.path.dirname(os.getcwd()))   # Change this path if needed\n",
    "src_path = os.path.join(project_root, 'qpmwp-course', 'src')\n",
    "sys.path.append(project_root)\n",
    "sys.path.append(src_path)\n",
    "from estimation.covariance import Covariance\n",
    "from estimation.expected_return import ExpectedReturn\n",
    "from optimization.constraints import Constraints\n",
    "from optimization.quadratic_program import QuadraticProgram\n",
    "from helper_functions import load_data_msci"
   ]
  },
  {
   "cell_type": "code",
   "execution_count": 108,
   "metadata": {},
   "outputs": [],
   "source": [
    "def linearize_turnover_constraint(self, x_init: np.ndarray, to_budget=float('inf')) -> None:\n",
    "        '''\n",
    "        Linearize the turnover constraint in the quadratic programming problem.\n",
    "\n",
    "        This method modifies the quadratic programming problem to include a linearized turnover constraint.\n",
    "\n",
    "        Parameters:\n",
    "        -----------\n",
    "        x_init : np.ndarray\n",
    "            The initial portfolio weights.\n",
    "        to_budget : float, optional\n",
    "            The maximum allowable turnover. Defaults to float('inf').\n",
    "\n",
    "        Notes:\n",
    "        ------\n",
    "        - The method updates the problem's objective function coefficients, inequality constraints,\n",
    "        equality constraints, and bounds to account for the turnover constraint.\n",
    "        - The original problem data is overridden with the updated matrices and vectors.\n",
    "\n",
    "        Examples:\n",
    "        ---------\n",
    "        >>> qp = QuadraticProgram(P, q, G, h, A, b, lb, ub, solver='cvxopt')\n",
    "        >>> qp.linearize_turnover_constraint(x_init=np.array([0.1, 0.2, 0.3]), to_budget=0.05)\n",
    "        '''\n",
    "        # Dimensions\n",
    "        n = len(self.problem_data.get('q'))\n",
    "        m = 0 if self.problem_data.get('G') is None else self.problem_data.get('G').shape[0] #how many inequality constraints are there originally\n",
    "\n",
    "        # Update the coefficients of the objective function\n",
    "        P_orig = self.problem_data.get('P')\n",
    "        q_orig = self.problem_data.get('q')\n",
    "\n",
    "        P = np.block([\n",
    "                [P_orig, np.zeros((n, 2*n))],\n",
    "                [np.zeros((2*n, 3*n))]\n",
    "        ])\n",
    "        q = np.concatenate([q_orig, np.zeros(2*n)])\n",
    "\n",
    "        # Update the equality constraints Ax = b, b does not need change as it is still value 1 array\n",
    "        A_orig = self.problem_data.get('A')\n",
    "\n",
    "        A = np.hstack([A_orig, np.zeros((1, 2*n))])\n",
    "\n",
    "        # Update the inequality constraints\n",
    "        G_orig = self.problem_data.get('G') #size mxn\n",
    "        h_orig = self.problem_data.get('h') # (m x 1)\n",
    "\n",
    "       # Convert G_orig to 2D if needed\n",
    "        if G_orig is not None:\n",
    "            if G_orig.ndim == 1:\n",
    "                G_orig = G_orig.reshape(1, -1)  # Make it 2D (1 x n)\n",
    "            m = G_orig.shape[0]\n",
    "        else:\n",
    "            m = 0\n",
    "            G_orig = np.zeros((0, n))  # Empty 2D array for vstack later\n",
    "\n",
    "        # Now safely hstack\n",
    "        G_extended = np.hstack([\n",
    "            G_orig,                # (m x n)\n",
    "            np.zeros((m, 2*n))      # (m x 2n)\n",
    "        ])                         # Result: (m x 3n)\n",
    "\n",
    "        # Turnover budget constraint\n",
    "        G_sum = np.hstack([\n",
    "            np.zeros((1, n)),      # (1 x n)\n",
    "            np.ones((1, 2*n))      # (1 x 2n)\n",
    "        ])                         # Result: (1 x 3n)\n",
    "\n",
    "        h_budget = np.array([to_budget])\n",
    "\n",
    "        #Turnover constraint\n",
    "        identity = np.eye(n)\n",
    "        G_turnover = np.vstack([\n",
    "            np.hstack([identity, -identity, identity]),\n",
    "            np.hstack([-identity, identity, -identity])\n",
    "        ])\n",
    "        h_turnover = np.hstack([\n",
    "            x_init, -x_init\n",
    "        ])\n",
    "\n",
    "        # Combine constraints\n",
    "\n",
    "        G = np.vstack([G_extended, G_turnover, G_sum])\n",
    "        h = np.hstack([\n",
    "            h_orig if h_orig is not None else np.zeros(0), \n",
    "            h_turnover,\n",
    "            h_budget\n",
    "        ]) \n",
    "\n",
    "\n",
    "        # Update lower and upper bounds\n",
    "        lb_orig = self.problem_data.get('lb')\n",
    "        ub_orig = self.problem_data.get('ub')\n",
    "\n",
    "        lb = np.hstack([lb_orig, np.zeros(2*n)])\n",
    "        ub = np.hstack([ub_orig, np.ones(2*n)])\n",
    "\n",
    "        # Override the original matrices (notice: b does not change)\n",
    "        self.update_problem_data({\n",
    "            'P': P,\n",
    "            'q': q,\n",
    "            'G': G,\n",
    "            'h': h,\n",
    "            'A': A,\n",
    "            'lb': lb,\n",
    "            'ub': ub\n",
    "        })\n",
    "\n",
    "        return None"
   ]
  },
  {
   "cell_type": "markdown",
   "metadata": {},
   "source": [
    "## Demo"
   ]
  },
  {
   "cell_type": "markdown",
   "metadata": {},
   "source": [
    "#### Create P and q"
   ]
  },
  {
   "cell_type": "code",
   "execution_count": 109,
   "metadata": {},
   "outputs": [
    {
     "data": {
      "text/plain": [
       "(AT    0.000130\n",
       " AU    0.000288\n",
       " BE    0.000047\n",
       " CA    0.000269\n",
       " CH    0.000149\n",
       " DE    0.000151\n",
       " DK    0.000429\n",
       " ES    0.000128\n",
       " FI    0.000145\n",
       " FR    0.000199\n",
       " dtype: float64,\n",
       "           AT        AU        BE        CA        CH        DE        DK  \\\n",
       " AT  0.000239  0.000054  0.000125  0.000075  0.000097  0.000138  0.000097   \n",
       " AU  0.000054  0.000104  0.000039  0.000030  0.000035  0.000041  0.000041   \n",
       " BE  0.000125  0.000039  0.000175  0.000064  0.000104  0.000137  0.000093   \n",
       " CA  0.000075  0.000030  0.000064  0.000130  0.000058  0.000087  0.000053   \n",
       " CH  0.000097  0.000035  0.000104  0.000058  0.000120  0.000121  0.000086   \n",
       " DE  0.000138  0.000041  0.000137  0.000087  0.000121  0.000202  0.000105   \n",
       " DK  0.000097  0.000041  0.000093  0.000053  0.000086  0.000105  0.000151   \n",
       " ES  0.000150  0.000044  0.000138  0.000081  0.000116  0.000164  0.000100   \n",
       " FI  0.000140  0.000050  0.000136  0.000091  0.000126  0.000180  0.000119   \n",
       " FR  0.000143  0.000045  0.000142  0.000084  0.000122  0.000174  0.000107   \n",
       " \n",
       "           ES        FI        FR  \n",
       " AT  0.000150  0.000140  0.000143  \n",
       " AU  0.000044  0.000050  0.000045  \n",
       " BE  0.000138  0.000136  0.000142  \n",
       " CA  0.000081  0.000091  0.000084  \n",
       " CH  0.000116  0.000126  0.000122  \n",
       " DE  0.000164  0.000180  0.000174  \n",
       " DK  0.000100  0.000119  0.000107  \n",
       " ES  0.000213  0.000173  0.000172  \n",
       " FI  0.000173  0.000360  0.000184  \n",
       " FR  0.000172  0.000184  0.000186  )"
      ]
     },
     "execution_count": 109,
     "metadata": {},
     "output_type": "execute_result"
    }
   ],
   "source": [
    "# Load the msci country index data\n",
    "N = 10\n",
    "data = load_data_msci(path = '../data/', n = N)\n",
    "X = data['return_series']\n",
    "\n",
    "# Compute the vector of expected returns (mean returns)\n",
    "q = ExpectedReturn(method='geometric').estimate(X=X, inplace=False)\n",
    "\n",
    "# Compute the covariance matrix\n",
    "P = Covariance(method='pearson').estimate(X=X, inplace=False)\n",
    "\n",
    "q, P"
   ]
  },
  {
   "cell_type": "markdown",
   "metadata": {},
   "source": [
    "### Create some constraints, instantiate an object of class QuadraticProgram, and add the method linearize_turnover_constraint to the instance."
   ]
  },
  {
   "cell_type": "code",
   "execution_count": 110,
   "metadata": {},
   "outputs": [
    {
     "data": {
      "text/plain": [
       "{'G': None,\n",
       " 'h': None,\n",
       " 'A': array([[1., 1., 1., 1., 1., 1., 1., 1., 1., 1.]]),\n",
       " 'b': array(1.)}"
      ]
     },
     "execution_count": 110,
     "metadata": {},
     "output_type": "execute_result"
    }
   ],
   "source": [
    "# Instantiate the constraints with only the budget and long-only constraints\n",
    "constraints = Constraints(ids = X.columns.tolist())\n",
    "constraints.add_budget(rhs=1, sense='=')\n",
    "constraints.add_box(lower=0.0, upper=1.0)\n",
    "GhAb = constraints.to_GhAb()\n",
    "\n",
    "# Create a quadratic program and linearize the turnover constraint\n",
    "qp = QuadraticProgram(\n",
    "    P = P.to_numpy(),\n",
    "    q = q.to_numpy() * 0,\n",
    "    G = GhAb['G'],\n",
    "    h = GhAb['h'],\n",
    "    A = GhAb['A'],\n",
    "    b = GhAb['b'],\n",
    "    lb = constraints.box['lower'].to_numpy(),\n",
    "    ub = constraints.box['upper'].to_numpy(),\n",
    "    solver = 'cvxopt',\n",
    ")\n",
    "\n",
    "# Add the linearized turnover constraint method to the instance of class QuadraticProgram\n",
    "qp.linearize_turnover_constraint = types.MethodType(linearize_turnover_constraint, qp)\n",
    "\n",
    "constraints.to_GhAb()"
   ]
  },
  {
   "cell_type": "markdown",
   "metadata": {},
   "source": [
    "### Add a turnover limit of 50%. Solve the problem and check whether the turnover constraint is respected."
   ]
  },
  {
   "cell_type": "code",
   "execution_count": 111,
   "metadata": {},
   "outputs": [
    {
     "name": "stdout",
     "output_type": "stream",
     "text": [
      "Turnover:\n",
      "0.4979075776642612\n"
     ]
    }
   ],
   "source": [
    "# Prepare initial weights\n",
    "x_init = pd.Series([1/X.shape[1]]*X.shape[1], index=X.columns)\n",
    "\n",
    "# Add the linearized turnover constraint\n",
    "qp.linearize_turnover_constraint(x_init=x_init, to_budget=0.5)\n",
    "\n",
    "# Solve the problem\n",
    "qp.solve()\n",
    "\n",
    "# Check the turnover\n",
    "solution = qp.results.get('solution')\n",
    "ids = constraints.ids\n",
    "weights = pd.Series(solution.x[:len(ids)], index=ids)\n",
    "\n",
    "print(\"Turnover:\")\n",
    "print(np.abs(weights - x_init).sum())"
   ]
  },
  {
   "cell_type": "code",
   "execution_count": 112,
   "metadata": {},
   "outputs": [
    {
     "name": "stdout",
     "output_type": "stream",
     "text": [
      "[[1 0 0]\n",
      " [0 1 0]] [[1. 0. 0. 0. 0. 0. 0. 0. 0.]\n",
      " [0. 1. 0. 0. 0. 0. 0. 0. 0.]\n",
      " [0. 0. 0. 1. 1. 1. 1. 1. 1.]]\n"
     ]
    }
   ],
   "source": [
    "n = 3  # Example with 3 assets\n",
    "G_orig = np.array([[1, 0, 0], [0, 1, 0]])  # Example original constraints\n",
    "m = G_orig.shape[0]\n",
    "\n",
    "G = np.block([\n",
    "    [G_orig, np.zeros((m, 2*n))],\n",
    "    [np.zeros((1, n)), np.ones((1, 2*n))]\n",
    "])\n",
    "\n",
    "G_mysol = np.block([\n",
    "                [G_orig, np.zeros((m, 2*n))],\n",
    "                [np.zeros((1, n)), np.ones((1, 2*n))]\n",
    "        ])\n",
    "\n",
    "print(G_orig, G_mysol)  # Should be (3, 9)"
   ]
  }
 ],
 "metadata": {
  "kernelspec": {
   "display_name": ".venv",
   "language": "python",
   "name": "python3"
  },
  "language_info": {
   "codemirror_mode": {
    "name": "ipython",
    "version": 3
   },
   "file_extension": ".py",
   "mimetype": "text/x-python",
   "name": "python",
   "nbconvert_exporter": "python",
   "pygments_lexer": "ipython3",
   "version": "3.13.2"
  }
 },
 "nbformat": 4,
 "nbformat_minor": 2
}
